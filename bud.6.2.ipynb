{
  "cells": [
    {
      "cell_type": "markdown",
      "metadata": {
        "id": "view-in-github",
        "colab_type": "text"
      },
      "source": [
        "<a href=\"https://colab.research.google.com/github/bjungweapon/mjc.ai.ml/blob/BDU/bud.6.2.ipynb\" target=\"_parent\"><img src=\"https://colab.research.google.com/assets/colab-badge.svg\" alt=\"Open In Colab\"/></a>"
      ]
    },
    {
      "cell_type": "markdown",
      "source": [
        " ## 이상치 (Outlier)처리\n",
        "\n",
        " 이상치 측정 과정에서 데이터들의 가변성, 변동성 때문에 나타날 수도 있고,  실제로 잘못된 실험에 의한 에러일 수도 있다.\n",
        "\n",
        " 좀더 이상한 값을 찾아내서 처리 (전처리 )한다면,\n",
        " 데이터가 올 바르다면 데이터가 신뢰있어야 한다.\n",
        ""
      ],
      "metadata": {
        "id": "oFjEsvDLqfZi"
      },
      "id": "oFjEsvDLqfZi"
    },
    {
      "cell_type": "code",
      "execution_count": 2,
      "id": "f4f04bbd-2380-4f20-b7f0-e84954500ea5",
      "metadata": {
        "id": "f4f04bbd-2380-4f20-b7f0-e84954500ea5"
      },
      "outputs": [],
      "source": [
        "## 이상치가 포함된 data를 먼저 만들어 보자.\n",
        "## 이상치가 들어간 dataset를 찾기 어려우니 직접 만들어 보자."
      ]
    },
    {
      "cell_type": "code",
      "execution_count": 3,
      "id": "dffedab7-49fd-4356-95bb-e8c83f1aa1dc",
      "metadata": {
        "id": "dffedab7-49fd-4356-95bb-e8c83f1aa1dc"
      },
      "outputs": [],
      "source": [
        "import numpy as np\n",
        "import pandas as pd\n",
        "import matplotlib.pyplot as plt\n"
      ]
    },
    {
      "cell_type": "code",
      "execution_count": 4,
      "id": "93eac53c-39ec-401e-bdf3-84fb99de82fb",
      "metadata": {
        "id": "93eac53c-39ec-401e-bdf3-84fb99de82fb"
      },
      "outputs": [],
      "source": [
        "#정규분포 평균 50, 펴준편차 10을 가지는 데이터 200개 생성 --> 데이터 프레임으로 변환"
      ]
    },
    {
      "cell_type": "code",
      "execution_count": 22,
      "id": "f142b81a-af1e-4d26-aa21-5aa951a1a813",
      "metadata": {
        "id": "f142b81a-af1e-4d26-aa21-5aa951a1a813"
      },
      "outputs": [],
      "source": [
        "data = 10 * np.random.randn(500) + 50    ## 200개 짜리, 평균 50, 표준편차가 10을 가지는 데이터 200개 짜리.\n",
        "df = pd.DataFrame({\"값\": data})   ## data frame 형식으로 변경하자.  key - value 형식의 data frame 형식\n"
      ]
    },
    {
      "cell_type": "code",
      "execution_count": 23,
      "id": "1658717f-f9c2-49e2-a4dc-3939d8026118",
      "metadata": {
        "id": "1658717f-f9c2-49e2-a4dc-3939d8026118",
        "outputId": "4fd7c35e-1659-4923-b806-40de2c51e3fd",
        "colab": {
          "base_uri": "https://localhost:8080/",
          "height": 423
        }
      },
      "outputs": [
        {
          "output_type": "execute_result",
          "data": {
            "text/plain": [
              "             값\n",
              "0    40.929264\n",
              "1    53.632767\n",
              "2    62.410602\n",
              "3    51.361026\n",
              "4    53.975363\n",
              "..         ...\n",
              "495  55.913752\n",
              "496  43.699236\n",
              "497  44.742034\n",
              "498  50.416251\n",
              "499  53.669595\n",
              "\n",
              "[500 rows x 1 columns]"
            ],
            "text/html": [
              "\n",
              "  <div id=\"df-5041faf7-5342-4d74-b380-0b9dbd4c6ede\" class=\"colab-df-container\">\n",
              "    <div>\n",
              "<style scoped>\n",
              "    .dataframe tbody tr th:only-of-type {\n",
              "        vertical-align: middle;\n",
              "    }\n",
              "\n",
              "    .dataframe tbody tr th {\n",
              "        vertical-align: top;\n",
              "    }\n",
              "\n",
              "    .dataframe thead th {\n",
              "        text-align: right;\n",
              "    }\n",
              "</style>\n",
              "<table border=\"1\" class=\"dataframe\">\n",
              "  <thead>\n",
              "    <tr style=\"text-align: right;\">\n",
              "      <th></th>\n",
              "      <th>값</th>\n",
              "    </tr>\n",
              "  </thead>\n",
              "  <tbody>\n",
              "    <tr>\n",
              "      <th>0</th>\n",
              "      <td>40.929264</td>\n",
              "    </tr>\n",
              "    <tr>\n",
              "      <th>1</th>\n",
              "      <td>53.632767</td>\n",
              "    </tr>\n",
              "    <tr>\n",
              "      <th>2</th>\n",
              "      <td>62.410602</td>\n",
              "    </tr>\n",
              "    <tr>\n",
              "      <th>3</th>\n",
              "      <td>51.361026</td>\n",
              "    </tr>\n",
              "    <tr>\n",
              "      <th>4</th>\n",
              "      <td>53.975363</td>\n",
              "    </tr>\n",
              "    <tr>\n",
              "      <th>...</th>\n",
              "      <td>...</td>\n",
              "    </tr>\n",
              "    <tr>\n",
              "      <th>495</th>\n",
              "      <td>55.913752</td>\n",
              "    </tr>\n",
              "    <tr>\n",
              "      <th>496</th>\n",
              "      <td>43.699236</td>\n",
              "    </tr>\n",
              "    <tr>\n",
              "      <th>497</th>\n",
              "      <td>44.742034</td>\n",
              "    </tr>\n",
              "    <tr>\n",
              "      <th>498</th>\n",
              "      <td>50.416251</td>\n",
              "    </tr>\n",
              "    <tr>\n",
              "      <th>499</th>\n",
              "      <td>53.669595</td>\n",
              "    </tr>\n",
              "  </tbody>\n",
              "</table>\n",
              "<p>500 rows × 1 columns</p>\n",
              "</div>\n",
              "    <div class=\"colab-df-buttons\">\n",
              "\n",
              "  <div class=\"colab-df-container\">\n",
              "    <button class=\"colab-df-convert\" onclick=\"convertToInteractive('df-5041faf7-5342-4d74-b380-0b9dbd4c6ede')\"\n",
              "            title=\"Convert this dataframe to an interactive table.\"\n",
              "            style=\"display:none;\">\n",
              "\n",
              "  <svg xmlns=\"http://www.w3.org/2000/svg\" height=\"24px\" viewBox=\"0 -960 960 960\">\n",
              "    <path d=\"M120-120v-720h720v720H120Zm60-500h600v-160H180v160Zm220 220h160v-160H400v160Zm0 220h160v-160H400v160ZM180-400h160v-160H180v160Zm440 0h160v-160H620v160ZM180-180h160v-160H180v160Zm440 0h160v-160H620v160Z\"/>\n",
              "  </svg>\n",
              "    </button>\n",
              "\n",
              "  <style>\n",
              "    .colab-df-container {\n",
              "      display:flex;\n",
              "      gap: 12px;\n",
              "    }\n",
              "\n",
              "    .colab-df-convert {\n",
              "      background-color: #E8F0FE;\n",
              "      border: none;\n",
              "      border-radius: 50%;\n",
              "      cursor: pointer;\n",
              "      display: none;\n",
              "      fill: #1967D2;\n",
              "      height: 32px;\n",
              "      padding: 0 0 0 0;\n",
              "      width: 32px;\n",
              "    }\n",
              "\n",
              "    .colab-df-convert:hover {\n",
              "      background-color: #E2EBFA;\n",
              "      box-shadow: 0px 1px 2px rgba(60, 64, 67, 0.3), 0px 1px 3px 1px rgba(60, 64, 67, 0.15);\n",
              "      fill: #174EA6;\n",
              "    }\n",
              "\n",
              "    .colab-df-buttons div {\n",
              "      margin-bottom: 4px;\n",
              "    }\n",
              "\n",
              "    [theme=dark] .colab-df-convert {\n",
              "      background-color: #3B4455;\n",
              "      fill: #D2E3FC;\n",
              "    }\n",
              "\n",
              "    [theme=dark] .colab-df-convert:hover {\n",
              "      background-color: #434B5C;\n",
              "      box-shadow: 0px 1px 3px 1px rgba(0, 0, 0, 0.15);\n",
              "      filter: drop-shadow(0px 1px 2px rgba(0, 0, 0, 0.3));\n",
              "      fill: #FFFFFF;\n",
              "    }\n",
              "  </style>\n",
              "\n",
              "    <script>\n",
              "      const buttonEl =\n",
              "        document.querySelector('#df-5041faf7-5342-4d74-b380-0b9dbd4c6ede button.colab-df-convert');\n",
              "      buttonEl.style.display =\n",
              "        google.colab.kernel.accessAllowed ? 'block' : 'none';\n",
              "\n",
              "      async function convertToInteractive(key) {\n",
              "        const element = document.querySelector('#df-5041faf7-5342-4d74-b380-0b9dbd4c6ede');\n",
              "        const dataTable =\n",
              "          await google.colab.kernel.invokeFunction('convertToInteractive',\n",
              "                                                    [key], {});\n",
              "        if (!dataTable) return;\n",
              "\n",
              "        const docLinkHtml = 'Like what you see? Visit the ' +\n",
              "          '<a target=\"_blank\" href=https://colab.research.google.com/notebooks/data_table.ipynb>data table notebook</a>'\n",
              "          + ' to learn more about interactive tables.';\n",
              "        element.innerHTML = '';\n",
              "        dataTable['output_type'] = 'display_data';\n",
              "        await google.colab.output.renderOutput(dataTable, element);\n",
              "        const docLink = document.createElement('div');\n",
              "        docLink.innerHTML = docLinkHtml;\n",
              "        element.appendChild(docLink);\n",
              "      }\n",
              "    </script>\n",
              "  </div>\n",
              "\n",
              "\n",
              "<div id=\"df-6ae34ec0-c4fb-4f8e-8a7a-e3456ec7afb0\">\n",
              "  <button class=\"colab-df-quickchart\" onclick=\"quickchart('df-6ae34ec0-c4fb-4f8e-8a7a-e3456ec7afb0')\"\n",
              "            title=\"Suggest charts\"\n",
              "            style=\"display:none;\">\n",
              "\n",
              "<svg xmlns=\"http://www.w3.org/2000/svg\" height=\"24px\"viewBox=\"0 0 24 24\"\n",
              "     width=\"24px\">\n",
              "    <g>\n",
              "        <path d=\"M19 3H5c-1.1 0-2 .9-2 2v14c0 1.1.9 2 2 2h14c1.1 0 2-.9 2-2V5c0-1.1-.9-2-2-2zM9 17H7v-7h2v7zm4 0h-2V7h2v10zm4 0h-2v-4h2v4z\"/>\n",
              "    </g>\n",
              "</svg>\n",
              "  </button>\n",
              "\n",
              "<style>\n",
              "  .colab-df-quickchart {\n",
              "      --bg-color: #E8F0FE;\n",
              "      --fill-color: #1967D2;\n",
              "      --hover-bg-color: #E2EBFA;\n",
              "      --hover-fill-color: #174EA6;\n",
              "      --disabled-fill-color: #AAA;\n",
              "      --disabled-bg-color: #DDD;\n",
              "  }\n",
              "\n",
              "  [theme=dark] .colab-df-quickchart {\n",
              "      --bg-color: #3B4455;\n",
              "      --fill-color: #D2E3FC;\n",
              "      --hover-bg-color: #434B5C;\n",
              "      --hover-fill-color: #FFFFFF;\n",
              "      --disabled-bg-color: #3B4455;\n",
              "      --disabled-fill-color: #666;\n",
              "  }\n",
              "\n",
              "  .colab-df-quickchart {\n",
              "    background-color: var(--bg-color);\n",
              "    border: none;\n",
              "    border-radius: 50%;\n",
              "    cursor: pointer;\n",
              "    display: none;\n",
              "    fill: var(--fill-color);\n",
              "    height: 32px;\n",
              "    padding: 0;\n",
              "    width: 32px;\n",
              "  }\n",
              "\n",
              "  .colab-df-quickchart:hover {\n",
              "    background-color: var(--hover-bg-color);\n",
              "    box-shadow: 0 1px 2px rgba(60, 64, 67, 0.3), 0 1px 3px 1px rgba(60, 64, 67, 0.15);\n",
              "    fill: var(--button-hover-fill-color);\n",
              "  }\n",
              "\n",
              "  .colab-df-quickchart-complete:disabled,\n",
              "  .colab-df-quickchart-complete:disabled:hover {\n",
              "    background-color: var(--disabled-bg-color);\n",
              "    fill: var(--disabled-fill-color);\n",
              "    box-shadow: none;\n",
              "  }\n",
              "\n",
              "  .colab-df-spinner {\n",
              "    border: 2px solid var(--fill-color);\n",
              "    border-color: transparent;\n",
              "    border-bottom-color: var(--fill-color);\n",
              "    animation:\n",
              "      spin 1s steps(1) infinite;\n",
              "  }\n",
              "\n",
              "  @keyframes spin {\n",
              "    0% {\n",
              "      border-color: transparent;\n",
              "      border-bottom-color: var(--fill-color);\n",
              "      border-left-color: var(--fill-color);\n",
              "    }\n",
              "    20% {\n",
              "      border-color: transparent;\n",
              "      border-left-color: var(--fill-color);\n",
              "      border-top-color: var(--fill-color);\n",
              "    }\n",
              "    30% {\n",
              "      border-color: transparent;\n",
              "      border-left-color: var(--fill-color);\n",
              "      border-top-color: var(--fill-color);\n",
              "      border-right-color: var(--fill-color);\n",
              "    }\n",
              "    40% {\n",
              "      border-color: transparent;\n",
              "      border-right-color: var(--fill-color);\n",
              "      border-top-color: var(--fill-color);\n",
              "    }\n",
              "    60% {\n",
              "      border-color: transparent;\n",
              "      border-right-color: var(--fill-color);\n",
              "    }\n",
              "    80% {\n",
              "      border-color: transparent;\n",
              "      border-right-color: var(--fill-color);\n",
              "      border-bottom-color: var(--fill-color);\n",
              "    }\n",
              "    90% {\n",
              "      border-color: transparent;\n",
              "      border-bottom-color: var(--fill-color);\n",
              "    }\n",
              "  }\n",
              "</style>\n",
              "\n",
              "  <script>\n",
              "    async function quickchart(key) {\n",
              "      const quickchartButtonEl =\n",
              "        document.querySelector('#' + key + ' button');\n",
              "      quickchartButtonEl.disabled = true;  // To prevent multiple clicks.\n",
              "      quickchartButtonEl.classList.add('colab-df-spinner');\n",
              "      try {\n",
              "        const charts = await google.colab.kernel.invokeFunction(\n",
              "            'suggestCharts', [key], {});\n",
              "      } catch (error) {\n",
              "        console.error('Error during call to suggestCharts:', error);\n",
              "      }\n",
              "      quickchartButtonEl.classList.remove('colab-df-spinner');\n",
              "      quickchartButtonEl.classList.add('colab-df-quickchart-complete');\n",
              "    }\n",
              "    (() => {\n",
              "      let quickchartButtonEl =\n",
              "        document.querySelector('#df-6ae34ec0-c4fb-4f8e-8a7a-e3456ec7afb0 button');\n",
              "      quickchartButtonEl.style.display =\n",
              "        google.colab.kernel.accessAllowed ? 'block' : 'none';\n",
              "    })();\n",
              "  </script>\n",
              "</div>\n",
              "\n",
              "  <div id=\"id_2e0689ef-8057-453c-955e-aae7e7060fe5\">\n",
              "    <style>\n",
              "      .colab-df-generate {\n",
              "        background-color: #E8F0FE;\n",
              "        border: none;\n",
              "        border-radius: 50%;\n",
              "        cursor: pointer;\n",
              "        display: none;\n",
              "        fill: #1967D2;\n",
              "        height: 32px;\n",
              "        padding: 0 0 0 0;\n",
              "        width: 32px;\n",
              "      }\n",
              "\n",
              "      .colab-df-generate:hover {\n",
              "        background-color: #E2EBFA;\n",
              "        box-shadow: 0px 1px 2px rgba(60, 64, 67, 0.3), 0px 1px 3px 1px rgba(60, 64, 67, 0.15);\n",
              "        fill: #174EA6;\n",
              "      }\n",
              "\n",
              "      [theme=dark] .colab-df-generate {\n",
              "        background-color: #3B4455;\n",
              "        fill: #D2E3FC;\n",
              "      }\n",
              "\n",
              "      [theme=dark] .colab-df-generate:hover {\n",
              "        background-color: #434B5C;\n",
              "        box-shadow: 0px 1px 3px 1px rgba(0, 0, 0, 0.15);\n",
              "        filter: drop-shadow(0px 1px 2px rgba(0, 0, 0, 0.3));\n",
              "        fill: #FFFFFF;\n",
              "      }\n",
              "    </style>\n",
              "    <button class=\"colab-df-generate\" onclick=\"generateWithVariable('df')\"\n",
              "            title=\"Generate code using this dataframe.\"\n",
              "            style=\"display:none;\">\n",
              "\n",
              "  <svg xmlns=\"http://www.w3.org/2000/svg\" height=\"24px\"viewBox=\"0 0 24 24\"\n",
              "       width=\"24px\">\n",
              "    <path d=\"M7,19H8.4L18.45,9,17,7.55,7,17.6ZM5,21V16.75L18.45,3.32a2,2,0,0,1,2.83,0l1.4,1.43a1.91,1.91,0,0,1,.58,1.4,1.91,1.91,0,0,1-.58,1.4L9.25,21ZM18.45,9,17,7.55Zm-12,3A5.31,5.31,0,0,0,4.9,8.1,5.31,5.31,0,0,0,1,6.5,5.31,5.31,0,0,0,4.9,4.9,5.31,5.31,0,0,0,6.5,1,5.31,5.31,0,0,0,8.1,4.9,5.31,5.31,0,0,0,12,6.5,5.46,5.46,0,0,0,6.5,12Z\"/>\n",
              "  </svg>\n",
              "    </button>\n",
              "    <script>\n",
              "      (() => {\n",
              "      const buttonEl =\n",
              "        document.querySelector('#id_2e0689ef-8057-453c-955e-aae7e7060fe5 button.colab-df-generate');\n",
              "      buttonEl.style.display =\n",
              "        google.colab.kernel.accessAllowed ? 'block' : 'none';\n",
              "\n",
              "      buttonEl.onclick = () => {\n",
              "        google.colab.notebook.generateWithVariable('df');\n",
              "      }\n",
              "      })();\n",
              "    </script>\n",
              "  </div>\n",
              "\n",
              "    </div>\n",
              "  </div>\n"
            ],
            "application/vnd.google.colaboratory.intrinsic+json": {
              "type": "dataframe",
              "variable_name": "df",
              "summary": "{\n  \"name\": \"df\",\n  \"rows\": 500,\n  \"fields\": [\n    {\n      \"column\": \"\\uac12\",\n      \"properties\": {\n        \"dtype\": \"number\",\n        \"std\": 10.007729917453648,\n        \"min\": 16.019742421949324,\n        \"max\": 82.46979096177004,\n        \"num_unique_values\": 500,\n        \"samples\": [\n          53.97946455822152,\n          55.832116849099066,\n          49.74523518136067\n        ],\n        \"semantic_type\": \"\",\n        \"description\": \"\"\n      }\n    }\n  ]\n}"
            }
          },
          "metadata": {},
          "execution_count": 23
        }
      ],
      "source": [
        "df"
      ]
    },
    {
      "cell_type": "code",
      "execution_count": 24,
      "id": "6465db5f-6c06-40ba-a2b9-ed20c5e71e7b",
      "metadata": {
        "id": "6465db5f-6c06-40ba-a2b9-ed20c5e71e7b"
      },
      "outputs": [],
      "source": [
        "## 이상치 삾임 (임의로)     loc : index를 추가 (삽입) 하는 함수\n",
        "df.loc[201] = 1\n",
        "df.loc[502] = 100\n",
        "df.loc[503]  = 10\n",
        "df.loc[204] = 110"
      ]
    },
    {
      "cell_type": "code",
      "execution_count": 8,
      "id": "bc705c92-f552-4a05-9acb-f412ae28802e",
      "metadata": {
        "id": "bc705c92-f552-4a05-9acb-f412ae28802e"
      },
      "outputs": [],
      "source": [
        "#분포 시각화"
      ]
    },
    {
      "cell_type": "code",
      "execution_count": 27,
      "id": "d96e7321-2c12-49fd-95e0-c166baaa22da",
      "metadata": {
        "id": "d96e7321-2c12-49fd-95e0-c166baaa22da",
        "outputId": "a80469cf-53c0-4f64-cd42-9ce02801c55d",
        "colab": {
          "base_uri": "https://localhost:8080/",
          "height": 430
        }
      },
      "outputs": [
        {
          "output_type": "display_data",
          "data": {
            "text/plain": [
              "<Figure size 640x480 with 1 Axes>"
            ],
            "image/png": "[encoded data removed]"
          },
          "metadata": {}
        }
      ],
      "source": [
        "plt.hist(df[\"값\"],bins=10, rwidth=0.5)   ## histrom, 넓이, bin: 분포\n",
        "plt.show()"
      ]
    },
    {
      "cell_type": "code",
      "execution_count": 10,
      "id": "4930916d-6a87-48de-b16c-850616abe8a4",
      "metadata": {
        "id": "4930916d-6a87-48de-b16c-850616abe8a4"
      },
      "outputs": [],
      "source": [
        "## 여러가지 방법을 사용하여 판단하게 된다."
      ]
    },
    {
      "cell_type": "markdown",
      "source": [
        "IRQ (Interquearile Range, 사분위 범위) 방법\n",
        " . IQR Rule을 이용한 이상치 탐색은 사분위 개념으로 출발.\n",
        "   - 전체 데이터들을 오름차순으로 정렬하고,\n",
        "     정확히 4등분 (25%, 50%, 75%, 100%)로 나눔.\n",
        "  - 여기서 75% 지점의 값과, 25% 지점의 값의 차이를 IQR 이라고 한다.\n",
        "\n",
        "    ( 3사분위 수 - 1차 분위수 )의 차이 가 IQR"
      ],
      "metadata": {
        "id": "7T9C2oO-sRIo"
      },
      "id": "7T9C2oO-sRIo"
    },
    {
      "cell_type": "markdown",
      "source": [
        " boxblot 을 그렸을 때, 점으로 나오는 샘플들이 바로 IQR Rule에서 말하는 **이상치**\n",
        "\n",
        " Q1 - 1.5*IRQ  (mininum 값) 보다 작은 것 ,\n",
        " Q3 + 1.5*IQR   (maximum 값) 보다 큰 것\n",
        " 들을 이상치 라고 한다.\n",
        "\n",
        " 1.5 정도의 값 (통계적인 값)\n",
        "     "
      ],
      "metadata": {
        "id": "mZP4pBjCsqOR"
      },
      "id": "mZP4pBjCsqOR"
    },
    {
      "cell_type": "code",
      "source": [],
      "metadata": {
        "id": "OtMUp_DjtU2u"
      },
      "id": "OtMUp_DjtU2u",
      "execution_count": null,
      "outputs": []
    },
    {
      "cell_type": "code",
      "execution_count": 11,
      "id": "4747f7fe-3abb-46d3-9108-84c7af167673",
      "metadata": {
        "id": "4747f7fe-3abb-46d3-9108-84c7af167673"
      },
      "outputs": [],
      "source": [
        "## 찾았으면  값을 삭제 하거나,  값을 대체 하거나 한다."
      ]
    },
    {
      "cell_type": "code",
      "execution_count": 12,
      "id": "7a83f388-bc4c-4866-83dc-9e40dfe14b88",
      "metadata": {
        "id": "7a83f388-bc4c-4866-83dc-9e40dfe14b88"
      },
      "outputs": [],
      "source": [
        "## IRQ 사용해 보기"
      ]
    },
    {
      "cell_type": "code",
      "execution_count": 28,
      "id": "f71d0be7-ef28-4f74-92c6-31a4fe86962e",
      "metadata": {
        "id": "f71d0be7-ef28-4f74-92c6-31a4fe86962e",
        "outputId": "949f23bf-0149-41fa-9c82-6d23b4100b10",
        "colab": {
          "base_uri": "https://localhost:8080/",
          "height": 430
        }
      },
      "outputs": [
        {
          "output_type": "display_data",
          "data": {
            "text/plain": [
              "<Figure size 640x480 with 1 Axes>"
            ],
            "image/png": "[encoded data removed]"
          },
          "metadata": {}
        }
      ],
      "source": [
        "plt.boxplot(df[\"값\"])\n",
        "plt.show()"
      ]
    },
    {
      "cell_type": "code",
      "source": [],
      "metadata": {
        "id": "mZPyYmKjtZkt"
      },
      "id": "mZPyYmKjtZkt",
      "execution_count": null,
      "outputs": []
    },
    {
      "cell_type": "code",
      "execution_count": 30,
      "id": "b6f7ca3b-6f27-434d-9860-c54ef8d97101",
      "metadata": {
        "id": "b6f7ca3b-6f27-434d-9860-c54ef8d97101",
        "outputId": "23e9ac15-4497-4f3a-dbad-a40cf6d990a0",
        "colab": {
          "base_uri": "https://localhost:8080/"
        }
      },
      "outputs": [
        {
          "output_type": "stream",
          "name": "stdout",
          "text": [
            "Q1 =  43.733997644201125\n",
            "Q2 =  51.17552086416538\n",
            "Q3 =  57.44563689173246\n",
            "IQR =  13.711639247531338\n"
          ]
        }
      ],
      "source": [
        "Q1= df[\"값\"].quantile(.25)\n",
        "Q2= df[\"값\"].quantile(.5)\n",
        "Q3= df[\"값\"].quantile(.75)\n",
        "#Q2= df[\"값\"].quantile(.5)\n",
        "IQR = Q3 - Q1\n",
        "\n",
        "print(\"Q1 = \",Q1)\n",
        "print(\"Q2 = \",Q2)\n",
        "print(\"Q3 = \",Q3)\n",
        "print(\"IQR = \",IQR)\n"
      ]
    },
    {
      "cell_type": "code",
      "execution_count": 15,
      "id": "bc1ae392-a191-403d-bd1e-7c91cba1ca49",
      "metadata": {
        "id": "bc1ae392-a191-403d-bd1e-7c91cba1ca49"
      },
      "outputs": [],
      "source": [
        "#describe 함수 사용"
      ]
    },
    {
      "cell_type": "code",
      "execution_count": 16,
      "id": "870a3a25-1fa1-4b58-944d-9f0053c85337",
      "metadata": {
        "id": "870a3a25-1fa1-4b58-944d-9f0053c85337",
        "outputId": "db5065a7-3833-41fa-e462-46ef25f4724e",
        "colab": {
          "base_uri": "https://localhost:8080/"
        }
      },
      "outputs": [
        {
          "output_type": "stream",
          "name": "stdout",
          "text": [
            "Q1 =  41.97988292010009\n",
            "Q2 =  49.45122437853441\n",
            "Q3 =  56.07527219727911\n",
            "IQR =  14.095389277179024\n"
          ]
        }
      ],
      "source": [
        "Q1 = df[\"값\"].describe()[\"25%\"]\n",
        "Q2 = df[\"값\"].describe()[\"50%\"]\n",
        "Q3 = df[\"값\"].describe()[\"75%\"]\n",
        "IQR = Q3 - Q1\n",
        "\n",
        "print(\"Q1 = \",Q1)\n",
        "print(\"Q2 = \",Q2)\n",
        "print(\"Q3 = \",Q3)\n",
        "print(\"IQR = \",IQR)\n"
      ]
    },
    {
      "cell_type": "code",
      "execution_count": 17,
      "id": "f0fa59fd-2645-4567-a39c-e044d1def7e8",
      "metadata": {
        "id": "f0fa59fd-2645-4567-a39c-e044d1def7e8"
      },
      "outputs": [],
      "source": [
        "#둘다 동일한 경과이다.  표현법만 다르다."
      ]
    },
    {
      "cell_type": "code",
      "execution_count": 18,
      "id": "4d63470b-97ca-45e0-a8f2-c7f0c8d6a826",
      "metadata": {
        "scrolled": true,
        "id": "4d63470b-97ca-45e0-a8f2-c7f0c8d6a826",
        "outputId": "032b2231-4a88-4113-9115-d1ba823226b9",
        "colab": {
          "base_uri": "https://localhost:8080/"
        }
      },
      "outputs": [
        {
          "output_type": "stream",
          "name": "stdout",
          "text": [
            "              값\n",
            "0     55.861697\n",
            "1     46.785281\n",
            "2     40.242870\n",
            "3     30.390902\n",
            "4     33.952387\n",
            "..          ...\n",
            "197   64.175181\n",
            "198   82.921733\n",
            "199   54.992076\n",
            "202  100.000000\n",
            "204  110.000000\n",
            "\n",
            "[201 rows x 1 columns]\n",
            "              값\n",
            "198   82.921733\n",
            "202  100.000000\n",
            "204  110.000000\n"
          ]
        }
      ],
      "source": [
        "condition = df[\"값\"] > (Q3 + IQR * 1.5)\n",
        "upperOutlier = df[condition]\n",
        "condition = df[\"값\"] > (Q1 - IQR * 1.5)\n",
        "lowerOutlier = df[condition]\n",
        "\n",
        "print(lowerOutlier)\n",
        "print(upperOutlier)"
      ]
    },
    {
      "cell_type": "code",
      "execution_count": 18,
      "id": "4a780ae1-94c8-4394-bd91-72f3582ce7a6",
      "metadata": {
        "id": "4a780ae1-94c8-4394-bd91-72f3582ce7a6"
      },
      "outputs": [],
      "source": []
    },
    {
      "cell_type": "code",
      "execution_count": 18,
      "id": "d8140faa-8eac-4721-b1c6-dd31eabceae0",
      "metadata": {
        "id": "d8140faa-8eac-4721-b1c6-dd31eabceae0"
      },
      "outputs": [],
      "source": []
    },
    {
      "cell_type": "code",
      "execution_count": 18,
      "id": "14dcb107-71f7-48a2-8c76-0aa1767ea527",
      "metadata": {
        "id": "14dcb107-71f7-48a2-8c76-0aa1767ea527"
      },
      "outputs": [],
      "source": []
    }
  ],
  "metadata": {
    "kernelspec": {
      "display_name": "Python 3",
      "name": "python3"
    },
    "language_info": {
      "name": "python"
    },
    "colab": {
      "provenance": [],
      "include_colab_link": true
    }
  },
  "nbformat": 4,
  "nbformat_minor": 5
}