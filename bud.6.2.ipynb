{
 "cells": [
  {
   "cell_type": "code",
   "execution_count": null,
   "id": "f4f04bbd-2380-4f20-b7f0-e84954500ea5",
   "metadata": {},
   "outputs": [],
   "source": [
    "## 이상치가 포함된 data를 먼저 만들어 보자. "
   ]
  },
  {
   "cell_type": "code",
   "execution_count": 2,
   "id": "dffedab7-49fd-4356-95bb-e8c83f1aa1dc",
   "metadata": {},
   "outputs": [],
   "source": [
    "import numpy as np\n",
    "import pandas as pd\n",
    "import matplotlib.pyplot as plt\n"
   ]
  },
  {
   "cell_type": "code",
   "execution_count": null,
   "id": "93eac53c-39ec-401e-bdf3-84fb99de82fb",
   "metadata": {},
   "outputs": [],
   "source": [
    "#정규분포 평균 50, 펴준편차 10을 가지는 데이터 200개 생성 --> 데이터 프레임으로 변환"
   ]
  },
  {
   "cell_type": "code",
   "execution_count": 4,
   "id": "f142b81a-af1e-4d26-aa21-5aa951a1a813",
   "metadata": {},
   "outputs": [],
   "source": [
    "data = 10 * np.random.randn(200) + 50\n",
    "df = pd.DataFrame({\"값\": data})"
   ]
  },
  {
   "cell_type": "code",
   "execution_count": 5,
   "id": "1658717f-f9c2-49e2-a4dc-3939d8026118",
   "metadata": {},
   "outputs": [
    {
     "data": {
      "text/html": [
       "<div>\n",
       "<style scoped>\n",
       "    .dataframe tbody tr th:only-of-type {\n",
       "        vertical-align: middle;\n",
       "    }\n",
       "\n",
       "    .dataframe tbody tr th {\n",
       "        vertical-align: top;\n",
       "    }\n",
       "\n",
       "    .dataframe thead th {\n",
       "        text-align: right;\n",
       "    }\n",
       "</style>\n",
       "<table border=\"1\" class=\"dataframe\">\n",
       "  <thead>\n",
       "    <tr style=\"text-align: right;\">\n",
       "      <th></th>\n",
       "      <th>값</th>\n",
       "    </tr>\n",
       "  </thead>\n",
       "  <tbody>\n",
       "    <tr>\n",
       "      <th>0</th>\n",
       "      <td>44.913047</td>\n",
       "    </tr>\n",
       "    <tr>\n",
       "      <th>1</th>\n",
       "      <td>47.098626</td>\n",
       "    </tr>\n",
       "    <tr>\n",
       "      <th>2</th>\n",
       "      <td>57.189601</td>\n",
       "    </tr>\n",
       "    <tr>\n",
       "      <th>3</th>\n",
       "      <td>64.358347</td>\n",
       "    </tr>\n",
       "    <tr>\n",
       "      <th>4</th>\n",
       "      <td>66.853174</td>\n",
       "    </tr>\n",
       "    <tr>\n",
       "      <th>...</th>\n",
       "      <td>...</td>\n",
       "    </tr>\n",
       "    <tr>\n",
       "      <th>195</th>\n",
       "      <td>58.400817</td>\n",
       "    </tr>\n",
       "    <tr>\n",
       "      <th>196</th>\n",
       "      <td>53.265117</td>\n",
       "    </tr>\n",
       "    <tr>\n",
       "      <th>197</th>\n",
       "      <td>47.309782</td>\n",
       "    </tr>\n",
       "    <tr>\n",
       "      <th>198</th>\n",
       "      <td>41.285907</td>\n",
       "    </tr>\n",
       "    <tr>\n",
       "      <th>199</th>\n",
       "      <td>72.101936</td>\n",
       "    </tr>\n",
       "  </tbody>\n",
       "</table>\n",
       "<p>200 rows × 1 columns</p>\n",
       "</div>"
      ],
      "text/plain": [
       "             값\n",
       "0    44.913047\n",
       "1    47.098626\n",
       "2    57.189601\n",
       "3    64.358347\n",
       "4    66.853174\n",
       "..         ...\n",
       "195  58.400817\n",
       "196  53.265117\n",
       "197  47.309782\n",
       "198  41.285907\n",
       "199  72.101936\n",
       "\n",
       "[200 rows x 1 columns]"
      ]
     },
     "execution_count": 5,
     "metadata": {},
     "output_type": "execute_result"
    }
   ],
   "source": [
    "df"
   ]
  },
  {
   "cell_type": "code",
   "execution_count": 16,
   "id": "6465db5f-6c06-40ba-a2b9-ed20c5e71e7b",
   "metadata": {},
   "outputs": [],
   "source": [
    "## 이상치 삾임 (임의로)     loc : index를 추가 하는 함수\n",
    "df.loc[201] = 1\n",
    "df.loc[202] = 100\n",
    "df.loc[203]  = 10\n",
    "df.loc[204] = 110"
   ]
  },
  {
   "cell_type": "code",
   "execution_count": 12,
   "id": "bc705c92-f552-4a05-9acb-f412ae28802e",
   "metadata": {},
   "outputs": [],
   "source": [
    "#분포 시각화"
   ]
  },
  {
   "cell_type": "code",
   "execution_count": 18,
   "id": "d96e7321-2c12-49fd-95e0-c166baaa22da",
   "metadata": {},
   "outputs": [
    {
     "data": {
      "image/png": "[encoded data removed]",
      "text/plain": [
       "<Figure size 640x480 with 1 Axes>"
      ]
     },
     "metadata": {},
     "output_type": "display_data"
    }
   ],
   "source": [
    "plt.hist(df[\"값\"],bins=20, rwidth=0.9)\n",
    "plt.show()"
   ]
  },
  {
   "cell_type": "code",
   "execution_count": null,
   "id": "4930916d-6a87-48de-b16c-850616abe8a4",
   "metadata": {},
   "outputs": [],
   "source": [
    "## 여러가지 방법을 사용하여 판단하게 된다. "
   ]
  },
  {
   "cell_type": "code",
   "execution_count": null,
   "id": "4747f7fe-3abb-46d3-9108-84c7af167673",
   "metadata": {},
   "outputs": [],
   "source": [
    "## 찾았으면  값을 삭제 하거나,  값을 대체 하거나 한다. "
   ]
  },
  {
   "cell_type": "code",
   "execution_count": null,
   "id": "7a83f388-bc4c-4866-83dc-9e40dfe14b88",
   "metadata": {},
   "outputs": [],
   "source": [
    "## IRQ 사용해 보기"
   ]
  },
  {
   "cell_type": "code",
   "execution_count": 21,
   "id": "f71d0be7-ef28-4f74-92c6-31a4fe86962e",
   "metadata": {},
   "outputs": [
    {
     "data": {
      "text/plain": [
       "{'whiskers': [<matplotlib.lines.Line2D at 0x13e8544a510>,\n",
       "  <matplotlib.lines.Line2D at 0x13e8544a960>],\n",
       " 'caps': [<matplotlib.lines.Line2D at 0x13e8544ab10>,\n",
       "  <matplotlib.lines.Line2D at 0x13e8544ac00>],\n",
       " 'boxes': [<matplotlib.lines.Line2D at 0x13e85449fa0>],\n",
       " 'medians': [<matplotlib.lines.Line2D at 0x13e8544b110>],\n",
       " 'fliers': [<matplotlib.lines.Line2D at 0x13e8544b2f0>],\n",
       " 'means': []}"
      ]
     },
     "execution_count": 21,
     "metadata": {},
     "output_type": "execute_result"
    },
    {
     "data": {
      "image/png": "[encoded data removed]",
      "text/plain": [
       "<Figure size 640x480 with 1 Axes>"
      ]
     },
     "metadata": {},
     "output_type": "display_data"
    }
   ],
   "source": [
    "plt.boxplot(df[\"값\"])"
   ]
  },
  {
   "cell_type": "code",
   "execution_count": 22,
   "id": "b6f7ca3b-6f27-434d-9860-c54ef8d97101",
   "metadata": {},
   "outputs": [
    {
     "name": "stdout",
     "output_type": "stream",
     "text": [
      "Q1 =  43.84515466507189\n",
      "Q2 =  50.87157189666091\n",
      "Q3 =  57.64391059367148\n",
      "IQR =  13.79875592859959\n"
     ]
    }
   ],
   "source": [
    "Q1= df[\"값\"].quantile(.25)\n",
    "Q2= df[\"값\"].quantile(.5)\n",
    "Q3= df[\"값\"].quantile(.75)\n",
    "#Q2= df[\"값\"].quantile(.5)\n",
    "IQR = Q3 - Q1\n",
    "\n",
    "print(\"Q1 = \",Q1)\n",
    "print(\"Q2 = \",Q2)\n",
    "print(\"Q3 = \",Q3)\n",
    "print(\"IQR = \",IQR)\n"
   ]
  },
  {
   "cell_type": "code",
   "execution_count": null,
   "id": "bc1ae392-a191-403d-bd1e-7c91cba1ca49",
   "metadata": {},
   "outputs": [],
   "source": [
    "#describe 함수 사용"
   ]
  },
  {
   "cell_type": "code",
   "execution_count": 25,
   "id": "870a3a25-1fa1-4b58-944d-9f0053c85337",
   "metadata": {},
   "outputs": [
    {
     "name": "stdout",
     "output_type": "stream",
     "text": [
      "Q1 =  43.84515466507189\n",
      "Q2 =  50.87157189666091\n",
      "Q3 =  57.64391059367148\n",
      "IQR =  13.79875592859959\n"
     ]
    }
   ],
   "source": [
    "Q1 = df[\"값\"].describe()[\"25%\"]\n",
    "Q2 = df[\"값\"].describe()[\"50%\"]\n",
    "Q3 = df[\"값\"].describe()[\"75%\"]\n",
    "IQR = Q3 - Q1\n",
    "\n",
    "print(\"Q1 = \",Q1)\n",
    "print(\"Q2 = \",Q2)\n",
    "print(\"Q3 = \",Q3)\n",
    "print(\"IQR = \",IQR)\n"
   ]
  },
  {
   "cell_type": "code",
   "execution_count": null,
   "id": "f0fa59fd-2645-4567-a39c-e044d1def7e8",
   "metadata": {},
   "outputs": [],
   "source": [
    "#둘다 동일한 경과이다.  표현법만 다르다. "
   ]
  },
  {
   "cell_type": "code",
   "execution_count": 27,
   "id": "4d63470b-97ca-45e0-a8f2-c7f0c8d6a826",
   "metadata": {
    "scrolled": true
   },
   "outputs": [
    {
     "name": "stdout",
     "output_type": "stream",
     "text": [
      "              값\n",
      "0     44.913047\n",
      "1     47.098626\n",
      "2     57.189601\n",
      "3     64.358347\n",
      "4     66.853174\n",
      "..          ...\n",
      "197   47.309782\n",
      "198   41.285907\n",
      "199   72.101936\n",
      "202  100.000000\n",
      "204  110.000000\n",
      "\n",
      "[202 rows x 1 columns]\n",
      "         값\n",
      "202  100.0\n",
      "204  110.0\n"
     ]
    }
   ],
   "source": [
    "condition = df[\"값\"] > (Q3 + IQR * 1.5)\n",
    "upperOutlier = df[condition]\n",
    "condition = df[\"값\"] > (Q1 - IQR * 1.5)\n",
    "lowerOutlier = df[condition]\n",
    "\n",
    "print(lowerOutlier)\n",
    "print(upperOutlier)"
   ]
  },
  {
   "cell_type": "code",
   "execution_count": null,
   "id": "4a780ae1-94c8-4394-bd91-72f3582ce7a6",
   "metadata": {},
   "outputs": [],
   "source": []
  },
  {
   "cell_type": "code",
   "execution_count": null,
   "id": "d8140faa-8eac-4721-b1c6-dd31eabceae0",
   "metadata": {},
   "outputs": [],
   "source": []
  },
  {
   "cell_type": "code",
   "execution_count": null,
   "id": "14dcb107-71f7-48a2-8c76-0aa1767ea527",
   "metadata": {},
   "outputs": [],
   "source": []
  }
 ],
 "metadata": {
  "kernelspec": {
   "display_name": "vconda_jungbg",
   "language": "python",
   "name": "vconda_jungbg"
  },
  "language_info": {
   "codemirror_mode": {
    "name": "ipython",
    "version": 3
   },
   "file_extension": ".py",
   "mimetype": "text/x-python",
   "name": "python",
   "nbconvert_exporter": "python",
   "pygments_lexer": "ipython3",
   "version": "3.12.9"
  }
 },
 "nbformat": 4,
 "nbformat_minor": 5
}
