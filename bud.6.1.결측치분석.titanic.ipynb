{
  "cells": [
    {
      "cell_type": "markdown",
      "source": [
        "1. 결측치 확인 방법\n",
        "  . (isnull)\n",
        "\n",
        "   . 데이터 프레임에서 결측치는 일반적으로 NaN으로 표시\n",
        "   "
      ],
      "metadata": {
        "id": "cRtksV_ceFu_"
      },
      "id": "cRtksV_ceFu_"
    },
    {
      "cell_type": "code",
      "execution_count": null,
      "id": "73349def-5d95-4847-844e-c835e259a705",
      "metadata": {
        "id": "73349def-5d95-4847-844e-c835e259a705"
      },
      "outputs": [],
      "source": [
        "import numpy as np\n",
        "import pandas as pd\n",
        "import matplotlib.pyplot as plt"
      ]
    },
    {
      "cell_type": "code",
      "execution_count": null,
      "id": "cc4d9af3-0763-455c-8b27-5e6b57452c18",
      "metadata": {
        "id": "cc4d9af3-0763-455c-8b27-5e6b57452c18"
      },
      "outputs": [],
      "source": [
        "df = pd.read_csv(\"http://raw.githubusercontent.com/datasciencedojo/datasets/master/titanic.csv\")"
      ]
    },
    {
      "cell_type": "code",
      "execution_count": null,
      "id": "d85599bc-2996-4f50-9f0e-278faeeb48f1",
      "metadata": {
        "id": "d85599bc-2996-4f50-9f0e-278faeeb48f1",
        "outputId": "1d1e252c-29ee-4d63-b0ce-98275b7aa46d"
      },
      "outputs": [
        {
          "data": {
            "text/html": [
              "<div>\n",
              "<style scoped>\n",
              "    .dataframe tbody tr th:only-of-type {\n",
              "        vertical-align: middle;\n",
              "    }\n",
              "\n",
              "    .dataframe tbody tr th {\n",
              "        vertical-align: top;\n",
              "    }\n",
              "\n",
              "    .dataframe thead th {\n",
              "        text-align: right;\n",
              "    }\n",
              "</style>\n",
              "<table border=\"1\" class=\"dataframe\">\n",
              "  <thead>\n",
              "    <tr style=\"text-align: right;\">\n",
              "      <th></th>\n",
              "      <th>PassengerId</th>\n",
              "      <th>Survived</th>\n",
              "      <th>Pclass</th>\n",
              "      <th>Name</th>\n",
              "      <th>Sex</th>\n",
              "      <th>Age</th>\n",
              "      <th>SibSp</th>\n",
              "      <th>Parch</th>\n",
              "      <th>Ticket</th>\n",
              "      <th>Fare</th>\n",
              "      <th>Cabin</th>\n",
              "      <th>Embarked</th>\n",
              "    </tr>\n",
              "  </thead>\n",
              "  <tbody>\n",
              "    <tr>\n",
              "      <th>0</th>\n",
              "      <td>False</td>\n",
              "      <td>False</td>\n",
              "      <td>False</td>\n",
              "      <td>False</td>\n",
              "      <td>False</td>\n",
              "      <td>False</td>\n",
              "      <td>False</td>\n",
              "      <td>False</td>\n",
              "      <td>False</td>\n",
              "      <td>False</td>\n",
              "      <td>True</td>\n",
              "      <td>False</td>\n",
              "    </tr>\n",
              "    <tr>\n",
              "      <th>1</th>\n",
              "      <td>False</td>\n",
              "      <td>False</td>\n",
              "      <td>False</td>\n",
              "      <td>False</td>\n",
              "      <td>False</td>\n",
              "      <td>False</td>\n",
              "      <td>False</td>\n",
              "      <td>False</td>\n",
              "      <td>False</td>\n",
              "      <td>False</td>\n",
              "      <td>False</td>\n",
              "      <td>False</td>\n",
              "    </tr>\n",
              "    <tr>\n",
              "      <th>2</th>\n",
              "      <td>False</td>\n",
              "      <td>False</td>\n",
              "      <td>False</td>\n",
              "      <td>False</td>\n",
              "      <td>False</td>\n",
              "      <td>False</td>\n",
              "      <td>False</td>\n",
              "      <td>False</td>\n",
              "      <td>False</td>\n",
              "      <td>False</td>\n",
              "      <td>True</td>\n",
              "      <td>False</td>\n",
              "    </tr>\n",
              "    <tr>\n",
              "      <th>3</th>\n",
              "      <td>False</td>\n",
              "      <td>False</td>\n",
              "      <td>False</td>\n",
              "      <td>False</td>\n",
              "      <td>False</td>\n",
              "      <td>False</td>\n",
              "      <td>False</td>\n",
              "      <td>False</td>\n",
              "      <td>False</td>\n",
              "      <td>False</td>\n",
              "      <td>False</td>\n",
              "      <td>False</td>\n",
              "    </tr>\n",
              "    <tr>\n",
              "      <th>4</th>\n",
              "      <td>False</td>\n",
              "      <td>False</td>\n",
              "      <td>False</td>\n",
              "      <td>False</td>\n",
              "      <td>False</td>\n",
              "      <td>False</td>\n",
              "      <td>False</td>\n",
              "      <td>False</td>\n",
              "      <td>False</td>\n",
              "      <td>False</td>\n",
              "      <td>True</td>\n",
              "      <td>False</td>\n",
              "    </tr>\n",
              "    <tr>\n",
              "      <th>...</th>\n",
              "      <td>...</td>\n",
              "      <td>...</td>\n",
              "      <td>...</td>\n",
              "      <td>...</td>\n",
              "      <td>...</td>\n",
              "      <td>...</td>\n",
              "      <td>...</td>\n",
              "      <td>...</td>\n",
              "      <td>...</td>\n",
              "      <td>...</td>\n",
              "      <td>...</td>\n",
              "      <td>...</td>\n",
              "    </tr>\n",
              "    <tr>\n",
              "      <th>886</th>\n",
              "      <td>False</td>\n",
              "      <td>False</td>\n",
              "      <td>False</td>\n",
              "      <td>False</td>\n",
              "      <td>False</td>\n",
              "      <td>False</td>\n",
              "      <td>False</td>\n",
              "      <td>False</td>\n",
              "      <td>False</td>\n",
              "      <td>False</td>\n",
              "      <td>True</td>\n",
              "      <td>False</td>\n",
              "    </tr>\n",
              "    <tr>\n",
              "      <th>887</th>\n",
              "      <td>False</td>\n",
              "      <td>False</td>\n",
              "      <td>False</td>\n",
              "      <td>False</td>\n",
              "      <td>False</td>\n",
              "      <td>False</td>\n",
              "      <td>False</td>\n",
              "      <td>False</td>\n",
              "      <td>False</td>\n",
              "      <td>False</td>\n",
              "      <td>False</td>\n",
              "      <td>False</td>\n",
              "    </tr>\n",
              "    <tr>\n",
              "      <th>888</th>\n",
              "      <td>False</td>\n",
              "      <td>False</td>\n",
              "      <td>False</td>\n",
              "      <td>False</td>\n",
              "      <td>False</td>\n",
              "      <td>True</td>\n",
              "      <td>False</td>\n",
              "      <td>False</td>\n",
              "      <td>False</td>\n",
              "      <td>False</td>\n",
              "      <td>True</td>\n",
              "      <td>False</td>\n",
              "    </tr>\n",
              "    <tr>\n",
              "      <th>889</th>\n",
              "      <td>False</td>\n",
              "      <td>False</td>\n",
              "      <td>False</td>\n",
              "      <td>False</td>\n",
              "      <td>False</td>\n",
              "      <td>False</td>\n",
              "      <td>False</td>\n",
              "      <td>False</td>\n",
              "      <td>False</td>\n",
              "      <td>False</td>\n",
              "      <td>False</td>\n",
              "      <td>False</td>\n",
              "    </tr>\n",
              "    <tr>\n",
              "      <th>890</th>\n",
              "      <td>False</td>\n",
              "      <td>False</td>\n",
              "      <td>False</td>\n",
              "      <td>False</td>\n",
              "      <td>False</td>\n",
              "      <td>False</td>\n",
              "      <td>False</td>\n",
              "      <td>False</td>\n",
              "      <td>False</td>\n",
              "      <td>False</td>\n",
              "      <td>True</td>\n",
              "      <td>False</td>\n",
              "    </tr>\n",
              "  </tbody>\n",
              "</table>\n",
              "<p>891 rows × 12 columns</p>\n",
              "</div>"
            ],
            "text/plain": [
              "     PassengerId  Survived  Pclass   Name    Sex    Age  SibSp  Parch  Ticket  \\\n",
              "0          False     False   False  False  False  False  False  False   False   \n",
              "1          False     False   False  False  False  False  False  False   False   \n",
              "2          False     False   False  False  False  False  False  False   False   \n",
              "3          False     False   False  False  False  False  False  False   False   \n",
              "4          False     False   False  False  False  False  False  False   False   \n",
              "..           ...       ...     ...    ...    ...    ...    ...    ...     ...   \n",
              "886        False     False   False  False  False  False  False  False   False   \n",
              "887        False     False   False  False  False  False  False  False   False   \n",
              "888        False     False   False  False  False   True  False  False   False   \n",
              "889        False     False   False  False  False  False  False  False   False   \n",
              "890        False     False   False  False  False  False  False  False   False   \n",
              "\n",
              "      Fare  Cabin  Embarked  \n",
              "0    False   True     False  \n",
              "1    False  False     False  \n",
              "2    False   True     False  \n",
              "3    False  False     False  \n",
              "4    False   True     False  \n",
              "..     ...    ...       ...  \n",
              "886  False   True     False  \n",
              "887  False  False     False  \n",
              "888  False   True     False  \n",
              "889  False  False     False  \n",
              "890  False   True     False  \n",
              "\n",
              "[891 rows x 12 columns]"
            ]
          },
          "execution_count": 14,
          "metadata": {},
          "output_type": "execute_result"
        }
      ],
      "source": [
        "df.isnull()"
      ]
    },
    {
      "cell_type": "code",
      "execution_count": null,
      "id": "a25d15cb-719c-4c76-85a2-9edad8739404",
      "metadata": {
        "id": "a25d15cb-719c-4c76-85a2-9edad8739404",
        "outputId": "2b6b344a-c7f5-454a-8c77-9d14e24a3611"
      },
      "outputs": [
        {
          "data": {
            "text/plain": [
              "PassengerId      0\n",
              "Survived         0\n",
              "Pclass           0\n",
              "Name             0\n",
              "Sex              0\n",
              "Age            177\n",
              "SibSp            0\n",
              "Parch            0\n",
              "Ticket           0\n",
              "Fare             0\n",
              "Cabin          687\n",
              "Embarked         2\n",
              "dtype: int64"
            ]
          },
          "execution_count": 16,
          "metadata": {},
          "output_type": "execute_result"
        }
      ],
      "source": [
        "df.isnull().sum()"
      ]
    },
    {
      "cell_type": "code",
      "execution_count": null,
      "id": "aaf6af50-f7aa-43f3-95c1-b377eaf90946",
      "metadata": {
        "id": "aaf6af50-f7aa-43f3-95c1-b377eaf90946",
        "outputId": "81e1c56c-7091-4a89-f719-5441618a211a"
      },
      "outputs": [
        {
          "name": "stdout",
          "output_type": "stream",
          "text": [
            "<class 'pandas.core.frame.DataFrame'>\n",
            "RangeIndex: 891 entries, 0 to 890\n",
            "Data columns (total 12 columns):\n",
            " #   Column       Non-Null Count  Dtype  \n",
            "---  ------       --------------  -----  \n",
            " 0   PassengerId  891 non-null    int64  \n",
            " 1   Survived     891 non-null    int64  \n",
            " 2   Pclass       891 non-null    int64  \n",
            " 3   Name         891 non-null    object \n",
            " 4   Sex          891 non-null    object \n",
            " 5   Age          714 non-null    float64\n",
            " 6   SibSp        891 non-null    int64  \n",
            " 7   Parch        891 non-null    int64  \n",
            " 8   Ticket       891 non-null    object \n",
            " 9   Fare         891 non-null    float64\n",
            " 10  Cabin        204 non-null    object \n",
            " 11  Embarked     889 non-null    object \n",
            "dtypes: float64(2), int64(5), object(5)\n",
            "memory usage: 83.7+ KB\n"
          ]
        }
      ],
      "source": [
        "df.info()\n"
      ]
    },
    {
      "cell_type": "code",
      "execution_count": null,
      "id": "7d0879e0-ebce-4dab-a81b-c41073a5cefb",
      "metadata": {
        "id": "7d0879e0-ebce-4dab-a81b-c41073a5cefb",
        "outputId": "ca64dd0e-c06f-4b6e-d321-eb923b2d0fa5"
      },
      "outputs": [
        {
          "data": {
            "text/plain": [
              "PassengerId    0\n",
              "Survived       0\n",
              "Pclass         0\n",
              "Name           0\n",
              "Sex            0\n",
              "Age            0\n",
              "SibSp          0\n",
              "Parch          0\n",
              "Ticket         0\n",
              "Fare           0\n",
              "Cabin          0\n",
              "Embarked       0\n",
              "dtype: int64"
            ]
          },
          "execution_count": 20,
          "metadata": {},
          "output_type": "execute_result"
        }
      ],
      "source": [
        "df_1 = df.dropna(axis=0)\n",
        "df_1.isnull().sum()"
      ]
    },
    {
      "cell_type": "code",
      "execution_count": null,
      "id": "a8293e5b-1605-4708-83cf-f75918052696",
      "metadata": {
        "id": "a8293e5b-1605-4708-83cf-f75918052696",
        "outputId": "d28c56ee-c467-4323-8afa-7309a6519c27"
      },
      "outputs": [
        {
          "data": {
            "text/plain": [
              "(183, 12)"
            ]
          },
          "execution_count": 22,
          "metadata": {},
          "output_type": "execute_result"
        }
      ],
      "source": [
        "df_1.shape   # 데이터 프레림 크기"
      ]
    },
    {
      "cell_type": "code",
      "execution_count": null,
      "id": "d3baa558-76a3-4561-bb2d-e20bb9e9d6a5",
      "metadata": {
        "id": "d3baa558-76a3-4561-bb2d-e20bb9e9d6a5"
      },
      "outputs": [],
      "source": [
        "##결측치를 대체 하는 방법"
      ]
    },
    {
      "cell_type": "code",
      "execution_count": null,
      "id": "f4524fba-795b-4335-9e6d-2d5a3ed4ea24",
      "metadata": {
        "id": "f4524fba-795b-4335-9e6d-2d5a3ed4ea24",
        "outputId": "0c98e2c9-ceb9-41e8-8795-01aff0363126"
      },
      "outputs": [
        {
          "name": "stdout",
          "output_type": "stream",
          "text": [
            "177\n"
          ]
        }
      ],
      "source": [
        "print(df[\"Age\"].isnull().sum())"
      ]
    },
    {
      "cell_type": "code",
      "execution_count": null,
      "id": "13a488dc-36a4-432b-aa56-c6e5920d772a",
      "metadata": {
        "id": "13a488dc-36a4-432b-aa56-c6e5920d772a"
      },
      "outputs": [],
      "source": [
        "age_mean = df[\"Age\"].mean()"
      ]
    },
    {
      "cell_type": "code",
      "execution_count": null,
      "id": "a4d10a29-860f-4e2b-9936-61650f543929",
      "metadata": {
        "id": "a4d10a29-860f-4e2b-9936-61650f543929"
      },
      "outputs": [],
      "source": [
        "df.fillna({\"Age\":age_mean}, inplace=True)  # 평균으로 데체. inplace 덮어 씌워라."
      ]
    },
    {
      "cell_type": "code",
      "execution_count": null,
      "id": "da497bfc-173c-41de-9570-4ddaf5091c06",
      "metadata": {
        "id": "da497bfc-173c-41de-9570-4ddaf5091c06",
        "outputId": "e711ec09-bb43-4198-a07a-165540736c15"
      },
      "outputs": [
        {
          "name": "stdout",
          "output_type": "stream",
          "text": [
            "0\n"
          ]
        }
      ],
      "source": [
        "print(df[\"Age\"].isnull().sum())"
      ]
    },
    {
      "cell_type": "code",
      "execution_count": null,
      "id": "e2e6b3e0-0966-439f-bcf5-bddbd9d97cd6",
      "metadata": {
        "id": "e2e6b3e0-0966-439f-bcf5-bddbd9d97cd6"
      },
      "outputs": [],
      "source": [
        "## Embark column의 최빈 값으로 대체"
      ]
    },
    {
      "cell_type": "code",
      "execution_count": null,
      "id": "405512e7-11e6-4fe2-84f9-937d2654c538",
      "metadata": {
        "id": "405512e7-11e6-4fe2-84f9-937d2654c538",
        "outputId": "e7ec0eed-a8ca-4a73-b792-de4ed684359e"
      },
      "outputs": [
        {
          "ename": "SyntaxError",
          "evalue": "'(' was never closed (585674213.py, line 2)",
          "output_type": "error",
          "traceback": [
            "\u001b[1;36m  Cell \u001b[1;32mIn[39], line 2\u001b[1;36m\u001b[0m\n\u001b[1;33m    print(df[\"Embarked\"].isnull().sum()\u001b[0m\n\u001b[1;37m         ^\u001b[0m\n\u001b[1;31mSyntaxError\u001b[0m\u001b[1;31m:\u001b[0m '(' was never closed\n"
          ]
        }
      ],
      "source": [
        "from scipy.stats import mode\n",
        "print(df[\"Embarked\"].isnull().sum()\n",
        "    embarked_mode = df[\"Embarked\"].mode()"
      ]
    },
    {
      "cell_type": "code",
      "execution_count": null,
      "id": "a2fa6fae-118f-4a40-be62-4734422d6945",
      "metadata": {
        "id": "a2fa6fae-118f-4a40-be62-4734422d6945"
      },
      "outputs": [],
      "source": [
        "## Embark 인접한 값으로 대체  ( ffill,  bfill ) 등 함수 사용"
      ]
    },
    {
      "cell_type": "code",
      "execution_count": null,
      "id": "8dd29726-6ea5-42a9-a923-e0cb2226b46d",
      "metadata": {
        "id": "8dd29726-6ea5-42a9-a923-e0cb2226b46d"
      },
      "outputs": [],
      "source": [
        "df[\"Embarked\"].fillna(method = ffill , inplace=True)"
      ]
    }
  ],
  "metadata": {
    "kernelspec": {
      "display_name": "vconda_jungbg",
      "language": "python",
      "name": "vconda_jungbg"
    },
    "language_info": {
      "codemirror_mode": {
        "name": "ipython",
        "version": 3
      },
      "file_extension": ".py",
      "mimetype": "text/x-python",
      "name": "python",
      "nbconvert_exporter": "python",
      "pygments_lexer": "ipython3",
      "version": "3.12.9"
    },
    "colab": {
      "provenance": []
    }
  },
  "nbformat": 4,
  "nbformat_minor": 5
}