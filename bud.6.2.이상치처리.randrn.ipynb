{
  "cells": [
    {
      "cell_type": "markdown",
      "metadata": {
        "id": "view-in-github",
        "colab_type": "text"
      },
      "source": [
        "<a href=\"https://colab.research.google.com/github/bjungweapon/mjc.ai.ml/blob/BDU/bud.6.2.%EC%9D%B4%EC%83%81%EC%B9%98%EC%B2%98%EB%A6%AC.randrn.ipynb\" target=\"_parent\"><img src=\"https://colab.research.google.com/assets/colab-badge.svg\" alt=\"Open In Colab\"/></a>"
      ]
    },
    {
      "cell_type": "markdown",
      "source": [
        " ## 이상치 (Outlier)처리\n",
        "\n",
        " 이상치 측정 과정에서 데이터들의 가변성, 변동성 때문에 나타날 수도 있고,  실제로 잘못된 실험에 의한 에러일 수도 있다.\n",
        "\n",
        " 좀더 이상한 값을 찾아내서 처리 (전처리 )한다면,\n",
        " 데이터가 올 바르다면 데이터가 신뢰있어야 한다.\n"
      ],
      "metadata": {
        "id": "oFjEsvDLqfZi"
      },
      "id": "oFjEsvDLqfZi"
    },
    {
      "cell_type": "code",
      "execution_count": null,
      "id": "f4f04bbd-2380-4f20-b7f0-e84954500ea5",
      "metadata": {
        "id": "f4f04bbd-2380-4f20-b7f0-e84954500ea5"
      },
      "outputs": [],
      "source": [
        "## 이상치가 포함된 data를 먼저 만들어 보자.\n",
        "## 이상치가 들어간 dataset를 찾기 어려우니 직접 만들어 보자."
      ]
    },
    {
      "cell_type": "code",
      "execution_count": null,
      "id": "dffedab7-49fd-4356-95bb-e8c83f1aa1dc",
      "metadata": {
        "id": "dffedab7-49fd-4356-95bb-e8c83f1aa1dc"
      },
      "outputs": [],
      "source": [
        "import numpy as np\n",
        "import pandas as pd\n",
        "import matplotlib.pyplot as plt\n"
      ]
    },
    {
      "cell_type": "code",
      "execution_count": null,
      "id": "93eac53c-39ec-401e-bdf3-84fb99de82fb",
      "metadata": {
        "id": "93eac53c-39ec-401e-bdf3-84fb99de82fb"
      },
      "outputs": [],
      "source": [
        "#정규분포 평균 50, 펴준편차 10을 가지는 데이터 200개 생성 --> 데이터 프레임으로 변환"
      ]
    },
    {
      "cell_type": "code",
      "execution_count": null,
      "id": "f142b81a-af1e-4d26-aa21-5aa951a1a813",
      "metadata": {
        "id": "f142b81a-af1e-4d26-aa21-5aa951a1a813"
      },
      "outputs": [],
      "source": [
        "data = 10 * np.random.randn(200) + 50    ## 200개 짜리, 평균 50, 표준편차가 10을 가지는 데이터 200개 짜리.\n",
        "df = pd.DataFrame({\"값\": data})   ## data frame 형식으로 변경하자.  key - value 형식의 data frame 형식\n"
      ]
    },
    {
      "cell_type": "code",
      "execution_count": null,
      "id": "1658717f-f9c2-49e2-a4dc-3939d8026118",
      "metadata": {
        "colab": {
          "base_uri": "https://localhost:8080/",
          "height": 423
        },
        "id": "1658717f-f9c2-49e2-a4dc-3939d8026118",
        "outputId": "dfb83d1a-8906-478b-c541-7ec73e32db01"
      },
      "outputs": [
        {
          "output_type": "execute_result",
          "data": {
            "text/plain": [
              "             값\n",
              "0    63.063709\n",
              "1    58.648831\n",
              "2    50.628711\n",
              "3    35.776529\n",
              "4    40.417292\n",
              "..         ...\n",
              "195  63.524750\n",
              "196  53.411751\n",
              "197  37.652314\n",
              "198  57.739459\n",
              "199  56.441641\n",
              "\n",
              "[200 rows x 1 columns]"
            ],
            "text/html": [
              "\n",
              "  <div id=\"df-05bb7670-9163-46e9-99cb-ba468cbca7e2\" class=\"colab-df-container\">\n",
              "    <div>\n",
              "<style scoped>\n",
              "    .dataframe tbody tr th:only-of-type {\n",
              "        vertical-align: middle;\n",
              "    }\n",
              "\n",
              "    .dataframe tbody tr th {\n",
              "        vertical-align: top;\n",
              "    }\n",
              "\n",
              "    .dataframe thead th {\n",
              "        text-align: right;\n",
              "    }\n",
              "</style>\n",
              "<table border=\"1\" class=\"dataframe\">\n",
              "  <thead>\n",
              "    <tr style=\"text-align: right;\">\n",
              "      <th></th>\n",
              "      <th>값</th>\n",
              "    </tr>\n",
              "  </thead>\n",
              "  <tbody>\n",
              "    <tr>\n",
              "      <th>0</th>\n",
              "      <td>63.063709</td>\n",
              "    </tr>\n",
              "    <tr>\n",
              "      <th>1</th>\n",
              "      <td>58.648831</td>\n",
              "    </tr>\n",
              "    <tr>\n",
              "      <th>2</th>\n",
              "      <td>50.628711</td>\n",
              "    </tr>\n",
              "    <tr>\n",
              "      <th>3</th>\n",
              "      <td>35.776529</td>\n",
              "    </tr>\n",
              "    <tr>\n",
              "      <th>4</th>\n",
              "      <td>40.417292</td>\n",
              "    </tr>\n",
              "    <tr>\n",
              "      <th>...</th>\n",
              "      <td>...</td>\n",
              "    </tr>\n",
              "    <tr>\n",
              "      <th>195</th>\n",
              "      <td>63.524750</td>\n",
              "    </tr>\n",
              "    <tr>\n",
              "      <th>196</th>\n",
              "      <td>53.411751</td>\n",
              "    </tr>\n",
              "    <tr>\n",
              "      <th>197</th>\n",
              "      <td>37.652314</td>\n",
              "    </tr>\n",
              "    <tr>\n",
              "      <th>198</th>\n",
              "      <td>57.739459</td>\n",
              "    </tr>\n",
              "    <tr>\n",
              "      <th>199</th>\n",
              "      <td>56.441641</td>\n",
              "    </tr>\n",
              "  </tbody>\n",
              "</table>\n",
              "<p>200 rows × 1 columns</p>\n",
              "</div>\n",
              "    <div class=\"colab-df-buttons\">\n",
              "\n",
              "  <div class=\"colab-df-container\">\n",
              "    <button class=\"colab-df-convert\" onclick=\"convertToInteractive('df-05bb7670-9163-46e9-99cb-ba468cbca7e2')\"\n",
              "            title=\"Convert this dataframe to an interactive table.\"\n",
              "            style=\"display:none;\">\n",
              "\n",
              "  <svg xmlns=\"http://www.w3.org/2000/svg\" height=\"24px\" viewBox=\"0 -960 960 960\">\n",
              "    <path d=\"M120-120v-720h720v720H120Zm60-500h600v-160H180v160Zm220 220h160v-160H400v160Zm0 220h160v-160H400v160ZM180-400h160v-160H180v160Zm440 0h160v-160H620v160ZM180-180h160v-160H180v160Zm440 0h160v-160H620v160Z\"/>\n",
              "  </svg>\n",
              "    </button>\n",
              "\n",
              "  <style>\n",
              "    .colab-df-container {\n",
              "      display:flex;\n",
              "      gap: 12px;\n",
              "    }\n",
              "\n",
              "    .colab-df-convert {\n",
              "      background-color: #E8F0FE;\n",
              "      border: none;\n",
              "      border-radius: 50%;\n",
              "      cursor: pointer;\n",
              "      display: none;\n",
              "      fill: #1967D2;\n",
              "      height: 32px;\n",
              "      padding: 0 0 0 0;\n",
              "      width: 32px;\n",
              "    }\n",
              "\n",
              "    .colab-df-convert:hover {\n",
              "      background-color: #E2EBFA;\n",
              "      box-shadow: 0px 1px 2px rgba(60, 64, 67, 0.3), 0px 1px 3px 1px rgba(60, 64, 67, 0.15);\n",
              "      fill: #174EA6;\n",
              "    }\n",
              "\n",
              "    .colab-df-buttons div {\n",
              "      margin-bottom: 4px;\n",
              "    }\n",
              "\n",
              "    [theme=dark] .colab-df-convert {\n",
              "      background-color: #3B4455;\n",
              "      fill: #D2E3FC;\n",
              "    }\n",
              "\n",
              "    [theme=dark] .colab-df-convert:hover {\n",
              "      background-color: #434B5C;\n",
              "      box-shadow: 0px 1px 3px 1px rgba(0, 0, 0, 0.15);\n",
              "      filter: drop-shadow(0px 1px 2px rgba(0, 0, 0, 0.3));\n",
              "      fill: #FFFFFF;\n",
              "    }\n",
              "  </style>\n",
              "\n",
              "    <script>\n",
              "      const buttonEl =\n",
              "        document.querySelector('#df-05bb7670-9163-46e9-99cb-ba468cbca7e2 button.colab-df-convert');\n",
              "      buttonEl.style.display =\n",
              "        google.colab.kernel.accessAllowed ? 'block' : 'none';\n",
              "\n",
              "      async function convertToInteractive(key) {\n",
              "        const element = document.querySelector('#df-05bb7670-9163-46e9-99cb-ba468cbca7e2');\n",
              "        const dataTable =\n",
              "          await google.colab.kernel.invokeFunction('convertToInteractive',\n",
              "                                                    [key], {});\n",
              "        if (!dataTable) return;\n",
              "\n",
              "        const docLinkHtml = 'Like what you see? Visit the ' +\n",
              "          '<a target=\"_blank\" href=https://colab.research.google.com/notebooks/data_table.ipynb>data table notebook</a>'\n",
              "          + ' to learn more about interactive tables.';\n",
              "        element.innerHTML = '';\n",
              "        dataTable['output_type'] = 'display_data';\n",
              "        await google.colab.output.renderOutput(dataTable, element);\n",
              "        const docLink = document.createElement('div');\n",
              "        docLink.innerHTML = docLinkHtml;\n",
              "        element.appendChild(docLink);\n",
              "      }\n",
              "    </script>\n",
              "  </div>\n",
              "\n",
              "\n",
              "<div id=\"df-d8f74c34-29fc-434b-9e93-7ed01abcb995\">\n",
              "  <button class=\"colab-df-quickchart\" onclick=\"quickchart('df-d8f74c34-29fc-434b-9e93-7ed01abcb995')\"\n",
              "            title=\"Suggest charts\"\n",
              "            style=\"display:none;\">\n",
              "\n",
              "<svg xmlns=\"http://www.w3.org/2000/svg\" height=\"24px\"viewBox=\"0 0 24 24\"\n",
              "     width=\"24px\">\n",
              "    <g>\n",
              "        <path d=\"M19 3H5c-1.1 0-2 .9-2 2v14c0 1.1.9 2 2 2h14c1.1 0 2-.9 2-2V5c0-1.1-.9-2-2-2zM9 17H7v-7h2v7zm4 0h-2V7h2v10zm4 0h-2v-4h2v4z\"/>\n",
              "    </g>\n",
              "</svg>\n",
              "  </button>\n",
              "\n",
              "<style>\n",
              "  .colab-df-quickchart {\n",
              "      --bg-color: #E8F0FE;\n",
              "      --fill-color: #1967D2;\n",
              "      --hover-bg-color: #E2EBFA;\n",
              "      --hover-fill-color: #174EA6;\n",
              "      --disabled-fill-color: #AAA;\n",
              "      --disabled-bg-color: #DDD;\n",
              "  }\n",
              "\n",
              "  [theme=dark] .colab-df-quickchart {\n",
              "      --bg-color: #3B4455;\n",
              "      --fill-color: #D2E3FC;\n",
              "      --hover-bg-color: #434B5C;\n",
              "      --hover-fill-color: #FFFFFF;\n",
              "      --disabled-bg-color: #3B4455;\n",
              "      --disabled-fill-color: #666;\n",
              "  }\n",
              "\n",
              "  .colab-df-quickchart {\n",
              "    background-color: var(--bg-color);\n",
              "    border: none;\n",
              "    border-radius: 50%;\n",
              "    cursor: pointer;\n",
              "    display: none;\n",
              "    fill: var(--fill-color);\n",
              "    height: 32px;\n",
              "    padding: 0;\n",
              "    width: 32px;\n",
              "  }\n",
              "\n",
              "  .colab-df-quickchart:hover {\n",
              "    background-color: var(--hover-bg-color);\n",
              "    box-shadow: 0 1px 2px rgba(60, 64, 67, 0.3), 0 1px 3px 1px rgba(60, 64, 67, 0.15);\n",
              "    fill: var(--button-hover-fill-color);\n",
              "  }\n",
              "\n",
              "  .colab-df-quickchart-complete:disabled,\n",
              "  .colab-df-quickchart-complete:disabled:hover {\n",
              "    background-color: var(--disabled-bg-color);\n",
              "    fill: var(--disabled-fill-color);\n",
              "    box-shadow: none;\n",
              "  }\n",
              "\n",
              "  .colab-df-spinner {\n",
              "    border: 2px solid var(--fill-color);\n",
              "    border-color: transparent;\n",
              "    border-bottom-color: var(--fill-color);\n",
              "    animation:\n",
              "      spin 1s steps(1) infinite;\n",
              "  }\n",
              "\n",
              "  @keyframes spin {\n",
              "    0% {\n",
              "      border-color: transparent;\n",
              "      border-bottom-color: var(--fill-color);\n",
              "      border-left-color: var(--fill-color);\n",
              "    }\n",
              "    20% {\n",
              "      border-color: transparent;\n",
              "      border-left-color: var(--fill-color);\n",
              "      border-top-color: var(--fill-color);\n",
              "    }\n",
              "    30% {\n",
              "      border-color: transparent;\n",
              "      border-left-color: var(--fill-color);\n",
              "      border-top-color: var(--fill-color);\n",
              "      border-right-color: var(--fill-color);\n",
              "    }\n",
              "    40% {\n",
              "      border-color: transparent;\n",
              "      border-right-color: var(--fill-color);\n",
              "      border-top-color: var(--fill-color);\n",
              "    }\n",
              "    60% {\n",
              "      border-color: transparent;\n",
              "      border-right-color: var(--fill-color);\n",
              "    }\n",
              "    80% {\n",
              "      border-color: transparent;\n",
              "      border-right-color: var(--fill-color);\n",
              "      border-bottom-color: var(--fill-color);\n",
              "    }\n",
              "    90% {\n",
              "      border-color: transparent;\n",
              "      border-bottom-color: var(--fill-color);\n",
              "    }\n",
              "  }\n",
              "</style>\n",
              "\n",
              "  <script>\n",
              "    async function quickchart(key) {\n",
              "      const quickchartButtonEl =\n",
              "        document.querySelector('#' + key + ' button');\n",
              "      quickchartButtonEl.disabled = true;  // To prevent multiple clicks.\n",
              "      quickchartButtonEl.classList.add('colab-df-spinner');\n",
              "      try {\n",
              "        const charts = await google.colab.kernel.invokeFunction(\n",
              "            'suggestCharts', [key], {});\n",
              "      } catch (error) {\n",
              "        console.error('Error during call to suggestCharts:', error);\n",
              "      }\n",
              "      quickchartButtonEl.classList.remove('colab-df-spinner');\n",
              "      quickchartButtonEl.classList.add('colab-df-quickchart-complete');\n",
              "    }\n",
              "    (() => {\n",
              "      let quickchartButtonEl =\n",
              "        document.querySelector('#df-d8f74c34-29fc-434b-9e93-7ed01abcb995 button');\n",
              "      quickchartButtonEl.style.display =\n",
              "        google.colab.kernel.accessAllowed ? 'block' : 'none';\n",
              "    })();\n",
              "  </script>\n",
              "</div>\n",
              "\n",
              "  <div id=\"id_426c8ce3-3c7f-4ea5-a9d3-ed01f0695e45\">\n",
              "    <style>\n",
              "      .colab-df-generate {\n",
              "        background-color: #E8F0FE;\n",
              "        border: none;\n",
              "        border-radius: 50%;\n",
              "        cursor: pointer;\n",
              "        display: none;\n",
              "        fill: #1967D2;\n",
              "        height: 32px;\n",
              "        padding: 0 0 0 0;\n",
              "        width: 32px;\n",
              "      }\n",
              "\n",
              "      .colab-df-generate:hover {\n",
              "        background-color: #E2EBFA;\n",
              "        box-shadow: 0px 1px 2px rgba(60, 64, 67, 0.3), 0px 1px 3px 1px rgba(60, 64, 67, 0.15);\n",
              "        fill: #174EA6;\n",
              "      }\n",
              "\n",
              "      [theme=dark] .colab-df-generate {\n",
              "        background-color: #3B4455;\n",
              "        fill: #D2E3FC;\n",
              "      }\n",
              "\n",
              "      [theme=dark] .colab-df-generate:hover {\n",
              "        background-color: #434B5C;\n",
              "        box-shadow: 0px 1px 3px 1px rgba(0, 0, 0, 0.15);\n",
              "        filter: drop-shadow(0px 1px 2px rgba(0, 0, 0, 0.3));\n",
              "        fill: #FFFFFF;\n",
              "      }\n",
              "    </style>\n",
              "    <button class=\"colab-df-generate\" onclick=\"generateWithVariable('df')\"\n",
              "            title=\"Generate code using this dataframe.\"\n",
              "            style=\"display:none;\">\n",
              "\n",
              "  <svg xmlns=\"http://www.w3.org/2000/svg\" height=\"24px\"viewBox=\"0 0 24 24\"\n",
              "       width=\"24px\">\n",
              "    <path d=\"M7,19H8.4L18.45,9,17,7.55,7,17.6ZM5,21V16.75L18.45,3.32a2,2,0,0,1,2.83,0l1.4,1.43a1.91,1.91,0,0,1,.58,1.4,1.91,1.91,0,0,1-.58,1.4L9.25,21ZM18.45,9,17,7.55Zm-12,3A5.31,5.31,0,0,0,4.9,8.1,5.31,5.31,0,0,0,1,6.5,5.31,5.31,0,0,0,4.9,4.9,5.31,5.31,0,0,0,6.5,1,5.31,5.31,0,0,0,8.1,4.9,5.31,5.31,0,0,0,12,6.5,5.46,5.46,0,0,0,6.5,12Z\"/>\n",
              "  </svg>\n",
              "    </button>\n",
              "    <script>\n",
              "      (() => {\n",
              "      const buttonEl =\n",
              "        document.querySelector('#id_426c8ce3-3c7f-4ea5-a9d3-ed01f0695e45 button.colab-df-generate');\n",
              "      buttonEl.style.display =\n",
              "        google.colab.kernel.accessAllowed ? 'block' : 'none';\n",
              "\n",
              "      buttonEl.onclick = () => {\n",
              "        google.colab.notebook.generateWithVariable('df');\n",
              "      }\n",
              "      })();\n",
              "    </script>\n",
              "  </div>\n",
              "\n",
              "    </div>\n",
              "  </div>\n"
            ],
            "application/vnd.google.colaboratory.intrinsic+json": {
              "type": "dataframe",
              "variable_name": "df",
              "summary": "{\n  \"name\": \"df\",\n  \"rows\": 200,\n  \"fields\": [\n    {\n      \"column\": \"\\uac12\",\n      \"properties\": {\n        \"dtype\": \"number\",\n        \"std\": 10.084500321325466,\n        \"min\": 27.42662545955101,\n        \"max\": 75.6037231918196,\n        \"num_unique_values\": 200,\n        \"samples\": [\n          64.91378434406886,\n          49.97194816321659,\n          49.167177826142954\n        ],\n        \"semantic_type\": \"\",\n        \"description\": \"\"\n      }\n    }\n  ]\n}"
            }
          },
          "metadata": {},
          "execution_count": 52
        }
      ],
      "source": [
        "df"
      ]
    },
    {
      "cell_type": "code",
      "execution_count": null,
      "id": "6465db5f-6c06-40ba-a2b9-ed20c5e71e7b",
      "metadata": {
        "id": "6465db5f-6c06-40ba-a2b9-ed20c5e71e7b"
      },
      "outputs": [],
      "source": [
        "## 이상치 삾임 (임의로)     loc : index를 추가 (삽입) 하는 함수\n",
        "df.loc[201] = 1\n",
        "df.loc[502] = 100\n",
        "df.loc[503]  = 10\n",
        "df.loc[204] = 110"
      ]
    },
    {
      "cell_type": "code",
      "execution_count": null,
      "id": "bc705c92-f552-4a05-9acb-f412ae28802e",
      "metadata": {
        "id": "bc705c92-f552-4a05-9acb-f412ae28802e"
      },
      "outputs": [],
      "source": [
        "#분포 시각화"
      ]
    },
    {
      "cell_type": "code",
      "execution_count": null,
      "id": "d96e7321-2c12-49fd-95e0-c166baaa22da",
      "metadata": {
        "colab": {
          "base_uri": "https://localhost:8080/",
          "height": 430
        },
        "id": "d96e7321-2c12-49fd-95e0-c166baaa22da",
        "outputId": "004b9790-b139-4603-8572-0d040ef4bfc0"
      },
      "outputs": [
        {
          "output_type": "display_data",
          "data": {
            "text/plain": [
              "<Figure size 640x480 with 1 Axes>"
            ],
            "image/png": "[encoded data removed]"
          },
          "metadata": {}
        }
      ],
      "source": [
        "plt.hist(df[\"값\"],bins=10, rwidth=0.5)   ## histrom, 넓이, bin: 분포\n",
        "plt.show()"
      ]
    },
    {
      "cell_type": "code",
      "execution_count": null,
      "id": "4930916d-6a87-48de-b16c-850616abe8a4",
      "metadata": {
        "id": "4930916d-6a87-48de-b16c-850616abe8a4"
      },
      "outputs": [],
      "source": [
        "## 여러가지 방법을 사용하여 판단하게 된다."
      ]
    },
    {
      "cell_type": "markdown",
      "source": [
        "IRQ (Interquearile Range, 사분위 범위) 방법\n",
        " . IQR Rule을 이용한 이상치 탐색은 사분위 개념으로 출발.\n",
        "   - 전체 데이터들을 오름차순으로 정렬하고,\n",
        "     정확히 4등분 (25%, 50%, 75%, 100%)로 나눔.\n",
        "  - 여기서 75% 지점의 값과, 25% 지점의 값의 차이를 IQR 이라고 한다.\n",
        "\n",
        "    ( 3사분위 수 - 1차 분위수 )의 차이 가 IQR"
      ],
      "metadata": {
        "id": "7T9C2oO-sRIo"
      },
      "id": "7T9C2oO-sRIo"
    },
    {
      "cell_type": "markdown",
      "source": [
        " boxblot 을 그렸을 때, 점으로 나오는 샘플들이 바로 IQR Rule에서 말하는 **이상치**\n",
        "\n",
        " Q1 - 1.5*IRQ  (mininum 값) 보다 작은 것 ,\n",
        " Q3 + 1.5*IQR   (maximum 값) 보다 큰 것\n",
        " 들을 이상치 라고 한다.\n",
        "\n",
        " 1.5 정도의 값 (통계적인 값)\n",
        "     "
      ],
      "metadata": {
        "id": "mZP4pBjCsqOR"
      },
      "id": "mZP4pBjCsqOR"
    },
    {
      "cell_type": "code",
      "source": [],
      "metadata": {
        "id": "OtMUp_DjtU2u"
      },
      "id": "OtMUp_DjtU2u",
      "execution_count": null,
      "outputs": []
    },
    {
      "cell_type": "code",
      "execution_count": null,
      "id": "4747f7fe-3abb-46d3-9108-84c7af167673",
      "metadata": {
        "id": "4747f7fe-3abb-46d3-9108-84c7af167673"
      },
      "outputs": [],
      "source": [
        "## 찾았으면  값을 삭제 하거나,  값을 대체 하거나 한다."
      ]
    },
    {
      "cell_type": "code",
      "execution_count": null,
      "id": "7a83f388-bc4c-4866-83dc-9e40dfe14b88",
      "metadata": {
        "id": "7a83f388-bc4c-4866-83dc-9e40dfe14b88"
      },
      "outputs": [],
      "source": [
        "## IRQ 사용해 보기"
      ]
    },
    {
      "cell_type": "code",
      "execution_count": null,
      "id": "f71d0be7-ef28-4f74-92c6-31a4fe86962e",
      "metadata": {
        "colab": {
          "base_uri": "https://localhost:8080/",
          "height": 430
        },
        "id": "f71d0be7-ef28-4f74-92c6-31a4fe86962e",
        "outputId": "ddf36171-9f08-43ab-e405-374ded0dd98b"
      },
      "outputs": [
        {
          "output_type": "display_data",
          "data": {
            "text/plain": [
              "<Figure size 640x480 with 1 Axes>"
            ],
            "image/png": "[encoded data removed]"
          },
          "metadata": {}
        }
      ],
      "source": [
        "plt.boxplot(df[\"값\"])\n",
        "plt.show()"
      ]
    },
    {
      "cell_type": "code",
      "source": [],
      "metadata": {
        "id": "mZPyYmKjtZkt"
      },
      "id": "mZPyYmKjtZkt",
      "execution_count": null,
      "outputs": []
    },
    {
      "cell_type": "markdown",
      "source": [
        "quantile 방식 ( 소숫점) 과  describe 방식 ( % 방식) 으로 사용할 수 있다. 결과값은 동일하다."
      ],
      "metadata": {
        "id": "6rcVAp23vhnl"
      },
      "id": "6rcVAp23vhnl"
    },
    {
      "cell_type": "code",
      "execution_count": null,
      "id": "b6f7ca3b-6f27-434d-9860-c54ef8d97101",
      "metadata": {
        "colab": {
          "base_uri": "https://localhost:8080/"
        },
        "id": "b6f7ca3b-6f27-434d-9860-c54ef8d97101",
        "outputId": "2bd6505c-e1ad-4416-b7d4-1965d7251009"
      },
      "outputs": [
        {
          "output_type": "stream",
          "name": "stdout",
          "text": [
            "Q1 =  43.46774193614255\n",
            "Q2 =  50.63417826691696\n",
            "Q3 =  57.19478408951131\n",
            "IQR =  13.727042153368757\n"
          ]
        }
      ],
      "source": [
        "Q1= df[\"값\"].quantile(.25)\n",
        "Q2= df[\"값\"].quantile(.5)\n",
        "Q3= df[\"값\"].quantile(.75)\n",
        "#Q2= df[\"값\"].quantile(.5)\n",
        "IQR = Q3 - Q1\n",
        "\n",
        "print(\"Q1 = \",Q1)\n",
        "print(\"Q2 = \",Q2)\n",
        "print(\"Q3 = \",Q3)\n",
        "print(\"IQR = \",IQR)\n"
      ]
    },
    {
      "cell_type": "code",
      "execution_count": null,
      "id": "bc1ae392-a191-403d-bd1e-7c91cba1ca49",
      "metadata": {
        "id": "bc1ae392-a191-403d-bd1e-7c91cba1ca49"
      },
      "outputs": [],
      "source": [
        "#describe 함수 사용"
      ]
    },
    {
      "cell_type": "code",
      "execution_count": null,
      "id": "870a3a25-1fa1-4b58-944d-9f0053c85337",
      "metadata": {
        "colab": {
          "base_uri": "https://localhost:8080/"
        },
        "id": "870a3a25-1fa1-4b58-944d-9f0053c85337",
        "outputId": "13bbd3e0-f432-47e1-a49e-956d9dfd661a"
      },
      "outputs": [
        {
          "output_type": "stream",
          "name": "stdout",
          "text": [
            "Q1 =  43.46774193614255\n",
            "Q2 =  50.63417826691696\n",
            "Q3 =  57.19478408951131\n",
            "IQR =  13.727042153368757\n"
          ]
        }
      ],
      "source": [
        "Q1 = df[\"값\"].describe()[\"25%\"]\n",
        "Q2 = df[\"값\"].describe()[\"50%\"]\n",
        "Q3 = df[\"값\"].describe()[\"75%\"]\n",
        "IQR = Q3 - Q1\n",
        "\n",
        "print(\"Q1 = \",Q1)\n",
        "print(\"Q2 = \",Q2)\n",
        "print(\"Q3 = \",Q3)\n",
        "print(\"IQR = \",IQR)\n"
      ]
    },
    {
      "cell_type": "code",
      "execution_count": null,
      "id": "f0fa59fd-2645-4567-a39c-e044d1def7e8",
      "metadata": {
        "id": "f0fa59fd-2645-4567-a39c-e044d1def7e8"
      },
      "outputs": [],
      "source": [
        "#둘다 동일한 경과이다.  표현법만 다르다."
      ]
    },
    {
      "cell_type": "code",
      "execution_count": null,
      "id": "4d63470b-97ca-45e0-a8f2-c7f0c8d6a826",
      "metadata": {
        "scrolled": true,
        "colab": {
          "base_uri": "https://localhost:8080/"
        },
        "id": "4d63470b-97ca-45e0-a8f2-c7f0c8d6a826",
        "outputId": "87c5f01b-15c7-4e26-ced0-50d1c9f133ee"
      },
      "outputs": [
        {
          "output_type": "stream",
          "name": "stdout",
          "text": [
            "              값\n",
            "0     63.063709\n",
            "1     58.648831\n",
            "2     50.628711\n",
            "3     35.776529\n",
            "4     40.417292\n",
            "..          ...\n",
            "197   37.652314\n",
            "198   57.739459\n",
            "199   56.441641\n",
            "502  100.000000\n",
            "204  110.000000\n",
            "\n",
            "[202 rows x 1 columns]\n",
            "         값\n",
            "502  100.0\n",
            "204  110.0\n"
          ]
        }
      ],
      "source": [
        "condition = df[\"값\"] > (Q3 + IQR * 1.5)   ## maximum value\n",
        "upperOutlier = df[condition]\n",
        "condition = df[\"값\"] > (Q1 - IQR * 1.5)   ## minimum value\n",
        "lowerOutlier = df[condition]\n",
        "\n",
        "print(lowerOutlier)\n",
        "print(upperOutlier)"
      ]
    }
  ],
  "metadata": {
    "kernelspec": {
      "display_name": "Python 3",
      "name": "python3"
    },
    "language_info": {
      "name": "python"
    },
    "colab": {
      "provenance": [],
      "include_colab_link": true
    }
  },
  "nbformat": 4,
  "nbformat_minor": 5
}