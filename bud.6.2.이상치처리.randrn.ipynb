{
  "cells": [
    {
      "cell_type": "markdown",
      "metadata": {
        "id": "view-in-github",
        "colab_type": "text"
      },
      "source": [
        "<a href=\"https://colab.research.google.com/github/bjungweapon/mjc.ai.ml/blob/BDU/bud.6.2.%EC%9D%B4%EC%83%81%EC%B9%98%EC%B2%98%EB%A6%AC.randrn.ipynb\" target=\"_parent\"><img src=\"https://colab.research.google.com/assets/colab-badge.svg\" alt=\"Open In Colab\"/></a>"
      ]
    },
    {
      "cell_type": "markdown",
      "source": [
        " ## 이상치 (Outlier)처리\n",
        "\n",
        " 이상치 측정 과정에서 데이터들의 가변성, 변동성 때문에 나타날 수도 있고,  실제로 잘못된 실험에 의한 에러일 수도 있다.\n",
        "\n",
        " 좀더 이상한 값을 찾아내서 처리 (전처리 )한다면,\n",
        " 데이터가 올 바르다면 데이터가 신뢰있어야 한다.\n"
      ],
      "metadata": {
        "id": "oFjEsvDLqfZi"
      },
      "id": "oFjEsvDLqfZi"
    },
    {
      "cell_type": "code",
      "execution_count": 4,
      "id": "f4f04bbd-2380-4f20-b7f0-e84954500ea5",
      "metadata": {
        "id": "f4f04bbd-2380-4f20-b7f0-e84954500ea5"
      },
      "outputs": [],
      "source": [
        "## 이상치가 포함된 data를 먼저 만들어 보자.\n",
        "## 이상치가 들어간 dataset를 찾기 어려우니 직접 만들어 보자."
      ]
    },
    {
      "cell_type": "code",
      "execution_count": 5,
      "id": "dffedab7-49fd-4356-95bb-e8c83f1aa1dc",
      "metadata": {
        "id": "dffedab7-49fd-4356-95bb-e8c83f1aa1dc"
      },
      "outputs": [],
      "source": [
        "import numpy as np\n",
        "import pandas as pd\n",
        "import matplotlib.pyplot as plt\n"
      ]
    },
    {
      "cell_type": "code",
      "execution_count": 6,
      "id": "93eac53c-39ec-401e-bdf3-84fb99de82fb",
      "metadata": {
        "id": "93eac53c-39ec-401e-bdf3-84fb99de82fb"
      },
      "outputs": [],
      "source": [
        "#정규분포 평균 50, 펴준편차 10을 가지는 데이터 200개 생성 --> 데이터 프레임으로 변환"
      ]
    },
    {
      "cell_type": "code",
      "execution_count": 7,
      "id": "f142b81a-af1e-4d26-aa21-5aa951a1a813",
      "metadata": {
        "id": "f142b81a-af1e-4d26-aa21-5aa951a1a813"
      },
      "outputs": [],
      "source": [
        "data = 10 * np.random.randn(200) + 50    ## 200개 짜리, 평균 50, 표준편차가 10을 가지는 데이터 200개 짜리.\n",
        "df = pd.DataFrame({\"값\": data})   ## data frame 형식으로 변경하자.  key - value 형식의 data frame 형식\n"
      ]
    },
    {
      "cell_type": "code",
      "execution_count": 8,
      "id": "1658717f-f9c2-49e2-a4dc-3939d8026118",
      "metadata": {
        "colab": {
          "base_uri": "https://localhost:8080/",
          "height": 423
        },
        "id": "1658717f-f9c2-49e2-a4dc-3939d8026118",
        "outputId": "3ef16780-3f69-4032-be98-f22313862f69"
      },
      "outputs": [
        {
          "output_type": "execute_result",
          "data": {
            "text/plain": [
              "             값\n",
              "0    39.895730\n",
              "1    61.837414\n",
              "2    57.338480\n",
              "3    49.716870\n",
              "4    60.005578\n",
              "..         ...\n",
              "195  33.969512\n",
              "196  47.658036\n",
              "197  35.369800\n",
              "198  37.054875\n",
              "199  53.307471\n",
              "\n",
              "[200 rows x 1 columns]"
            ],
            "text/html": [
              "\n",
              "  <div id=\"df-8ac00b8c-7688-4924-9ba7-064408822dda\" class=\"colab-df-container\">\n",
              "    <div>\n",
              "<style scoped>\n",
              "    .dataframe tbody tr th:only-of-type {\n",
              "        vertical-align: middle;\n",
              "    }\n",
              "\n",
              "    .dataframe tbody tr th {\n",
              "        vertical-align: top;\n",
              "    }\n",
              "\n",
              "    .dataframe thead th {\n",
              "        text-align: right;\n",
              "    }\n",
              "</style>\n",
              "<table border=\"1\" class=\"dataframe\">\n",
              "  <thead>\n",
              "    <tr style=\"text-align: right;\">\n",
              "      <th></th>\n",
              "      <th>값</th>\n",
              "    </tr>\n",
              "  </thead>\n",
              "  <tbody>\n",
              "    <tr>\n",
              "      <th>0</th>\n",
              "      <td>39.895730</td>\n",
              "    </tr>\n",
              "    <tr>\n",
              "      <th>1</th>\n",
              "      <td>61.837414</td>\n",
              "    </tr>\n",
              "    <tr>\n",
              "      <th>2</th>\n",
              "      <td>57.338480</td>\n",
              "    </tr>\n",
              "    <tr>\n",
              "      <th>3</th>\n",
              "      <td>49.716870</td>\n",
              "    </tr>\n",
              "    <tr>\n",
              "      <th>4</th>\n",
              "      <td>60.005578</td>\n",
              "    </tr>\n",
              "    <tr>\n",
              "      <th>...</th>\n",
              "      <td>...</td>\n",
              "    </tr>\n",
              "    <tr>\n",
              "      <th>195</th>\n",
              "      <td>33.969512</td>\n",
              "    </tr>\n",
              "    <tr>\n",
              "      <th>196</th>\n",
              "      <td>47.658036</td>\n",
              "    </tr>\n",
              "    <tr>\n",
              "      <th>197</th>\n",
              "      <td>35.369800</td>\n",
              "    </tr>\n",
              "    <tr>\n",
              "      <th>198</th>\n",
              "      <td>37.054875</td>\n",
              "    </tr>\n",
              "    <tr>\n",
              "      <th>199</th>\n",
              "      <td>53.307471</td>\n",
              "    </tr>\n",
              "  </tbody>\n",
              "</table>\n",
              "<p>200 rows × 1 columns</p>\n",
              "</div>\n",
              "    <div class=\"colab-df-buttons\">\n",
              "\n",
              "  <div class=\"colab-df-container\">\n",
              "    <button class=\"colab-df-convert\" onclick=\"convertToInteractive('df-8ac00b8c-7688-4924-9ba7-064408822dda')\"\n",
              "            title=\"Convert this dataframe to an interactive table.\"\n",
              "            style=\"display:none;\">\n",
              "\n",
              "  <svg xmlns=\"http://www.w3.org/2000/svg\" height=\"24px\" viewBox=\"0 -960 960 960\">\n",
              "    <path d=\"M120-120v-720h720v720H120Zm60-500h600v-160H180v160Zm220 220h160v-160H400v160Zm0 220h160v-160H400v160ZM180-400h160v-160H180v160Zm440 0h160v-160H620v160ZM180-180h160v-160H180v160Zm440 0h160v-160H620v160Z\"/>\n",
              "  </svg>\n",
              "    </button>\n",
              "\n",
              "  <style>\n",
              "    .colab-df-container {\n",
              "      display:flex;\n",
              "      gap: 12px;\n",
              "    }\n",
              "\n",
              "    .colab-df-convert {\n",
              "      background-color: #E8F0FE;\n",
              "      border: none;\n",
              "      border-radius: 50%;\n",
              "      cursor: pointer;\n",
              "      display: none;\n",
              "      fill: #1967D2;\n",
              "      height: 32px;\n",
              "      padding: 0 0 0 0;\n",
              "      width: 32px;\n",
              "    }\n",
              "\n",
              "    .colab-df-convert:hover {\n",
              "      background-color: #E2EBFA;\n",
              "      box-shadow: 0px 1px 2px rgba(60, 64, 67, 0.3), 0px 1px 3px 1px rgba(60, 64, 67, 0.15);\n",
              "      fill: #174EA6;\n",
              "    }\n",
              "\n",
              "    .colab-df-buttons div {\n",
              "      margin-bottom: 4px;\n",
              "    }\n",
              "\n",
              "    [theme=dark] .colab-df-convert {\n",
              "      background-color: #3B4455;\n",
              "      fill: #D2E3FC;\n",
              "    }\n",
              "\n",
              "    [theme=dark] .colab-df-convert:hover {\n",
              "      background-color: #434B5C;\n",
              "      box-shadow: 0px 1px 3px 1px rgba(0, 0, 0, 0.15);\n",
              "      filter: drop-shadow(0px 1px 2px rgba(0, 0, 0, 0.3));\n",
              "      fill: #FFFFFF;\n",
              "    }\n",
              "  </style>\n",
              "\n",
              "    <script>\n",
              "      const buttonEl =\n",
              "        document.querySelector('#df-8ac00b8c-7688-4924-9ba7-064408822dda button.colab-df-convert');\n",
              "      buttonEl.style.display =\n",
              "        google.colab.kernel.accessAllowed ? 'block' : 'none';\n",
              "\n",
              "      async function convertToInteractive(key) {\n",
              "        const element = document.querySelector('#df-8ac00b8c-7688-4924-9ba7-064408822dda');\n",
              "        const dataTable =\n",
              "          await google.colab.kernel.invokeFunction('convertToInteractive',\n",
              "                                                    [key], {});\n",
              "        if (!dataTable) return;\n",
              "\n",
              "        const docLinkHtml = 'Like what you see? Visit the ' +\n",
              "          '<a target=\"_blank\" href=https://colab.research.google.com/notebooks/data_table.ipynb>data table notebook</a>'\n",
              "          + ' to learn more about interactive tables.';\n",
              "        element.innerHTML = '';\n",
              "        dataTable['output_type'] = 'display_data';\n",
              "        await google.colab.output.renderOutput(dataTable, element);\n",
              "        const docLink = document.createElement('div');\n",
              "        docLink.innerHTML = docLinkHtml;\n",
              "        element.appendChild(docLink);\n",
              "      }\n",
              "    </script>\n",
              "  </div>\n",
              "\n",
              "\n",
              "<div id=\"df-3184cfcb-8c56-4b01-b5a4-ee1cf4f1b777\">\n",
              "  <button class=\"colab-df-quickchart\" onclick=\"quickchart('df-3184cfcb-8c56-4b01-b5a4-ee1cf4f1b777')\"\n",
              "            title=\"Suggest charts\"\n",
              "            style=\"display:none;\">\n",
              "\n",
              "<svg xmlns=\"http://www.w3.org/2000/svg\" height=\"24px\"viewBox=\"0 0 24 24\"\n",
              "     width=\"24px\">\n",
              "    <g>\n",
              "        <path d=\"M19 3H5c-1.1 0-2 .9-2 2v14c0 1.1.9 2 2 2h14c1.1 0 2-.9 2-2V5c0-1.1-.9-2-2-2zM9 17H7v-7h2v7zm4 0h-2V7h2v10zm4 0h-2v-4h2v4z\"/>\n",
              "    </g>\n",
              "</svg>\n",
              "  </button>\n",
              "\n",
              "<style>\n",
              "  .colab-df-quickchart {\n",
              "      --bg-color: #E8F0FE;\n",
              "      --fill-color: #1967D2;\n",
              "      --hover-bg-color: #E2EBFA;\n",
              "      --hover-fill-color: #174EA6;\n",
              "      --disabled-fill-color: #AAA;\n",
              "      --disabled-bg-color: #DDD;\n",
              "  }\n",
              "\n",
              "  [theme=dark] .colab-df-quickchart {\n",
              "      --bg-color: #3B4455;\n",
              "      --fill-color: #D2E3FC;\n",
              "      --hover-bg-color: #434B5C;\n",
              "      --hover-fill-color: #FFFFFF;\n",
              "      --disabled-bg-color: #3B4455;\n",
              "      --disabled-fill-color: #666;\n",
              "  }\n",
              "\n",
              "  .colab-df-quickchart {\n",
              "    background-color: var(--bg-color);\n",
              "    border: none;\n",
              "    border-radius: 50%;\n",
              "    cursor: pointer;\n",
              "    display: none;\n",
              "    fill: var(--fill-color);\n",
              "    height: 32px;\n",
              "    padding: 0;\n",
              "    width: 32px;\n",
              "  }\n",
              "\n",
              "  .colab-df-quickchart:hover {\n",
              "    background-color: var(--hover-bg-color);\n",
              "    box-shadow: 0 1px 2px rgba(60, 64, 67, 0.3), 0 1px 3px 1px rgba(60, 64, 67, 0.15);\n",
              "    fill: var(--button-hover-fill-color);\n",
              "  }\n",
              "\n",
              "  .colab-df-quickchart-complete:disabled,\n",
              "  .colab-df-quickchart-complete:disabled:hover {\n",
              "    background-color: var(--disabled-bg-color);\n",
              "    fill: var(--disabled-fill-color);\n",
              "    box-shadow: none;\n",
              "  }\n",
              "\n",
              "  .colab-df-spinner {\n",
              "    border: 2px solid var(--fill-color);\n",
              "    border-color: transparent;\n",
              "    border-bottom-color: var(--fill-color);\n",
              "    animation:\n",
              "      spin 1s steps(1) infinite;\n",
              "  }\n",
              "\n",
              "  @keyframes spin {\n",
              "    0% {\n",
              "      border-color: transparent;\n",
              "      border-bottom-color: var(--fill-color);\n",
              "      border-left-color: var(--fill-color);\n",
              "    }\n",
              "    20% {\n",
              "      border-color: transparent;\n",
              "      border-left-color: var(--fill-color);\n",
              "      border-top-color: var(--fill-color);\n",
              "    }\n",
              "    30% {\n",
              "      border-color: transparent;\n",
              "      border-left-color: var(--fill-color);\n",
              "      border-top-color: var(--fill-color);\n",
              "      border-right-color: var(--fill-color);\n",
              "    }\n",
              "    40% {\n",
              "      border-color: transparent;\n",
              "      border-right-color: var(--fill-color);\n",
              "      border-top-color: var(--fill-color);\n",
              "    }\n",
              "    60% {\n",
              "      border-color: transparent;\n",
              "      border-right-color: var(--fill-color);\n",
              "    }\n",
              "    80% {\n",
              "      border-color: transparent;\n",
              "      border-right-color: var(--fill-color);\n",
              "      border-bottom-color: var(--fill-color);\n",
              "    }\n",
              "    90% {\n",
              "      border-color: transparent;\n",
              "      border-bottom-color: var(--fill-color);\n",
              "    }\n",
              "  }\n",
              "</style>\n",
              "\n",
              "  <script>\n",
              "    async function quickchart(key) {\n",
              "      const quickchartButtonEl =\n",
              "        document.querySelector('#' + key + ' button');\n",
              "      quickchartButtonEl.disabled = true;  // To prevent multiple clicks.\n",
              "      quickchartButtonEl.classList.add('colab-df-spinner');\n",
              "      try {\n",
              "        const charts = await google.colab.kernel.invokeFunction(\n",
              "            'suggestCharts', [key], {});\n",
              "      } catch (error) {\n",
              "        console.error('Error during call to suggestCharts:', error);\n",
              "      }\n",
              "      quickchartButtonEl.classList.remove('colab-df-spinner');\n",
              "      quickchartButtonEl.classList.add('colab-df-quickchart-complete');\n",
              "    }\n",
              "    (() => {\n",
              "      let quickchartButtonEl =\n",
              "        document.querySelector('#df-3184cfcb-8c56-4b01-b5a4-ee1cf4f1b777 button');\n",
              "      quickchartButtonEl.style.display =\n",
              "        google.colab.kernel.accessAllowed ? 'block' : 'none';\n",
              "    })();\n",
              "  </script>\n",
              "</div>\n",
              "\n",
              "  <div id=\"id_d6f1604d-5a1c-4e80-8293-c2ae7c24903b\">\n",
              "    <style>\n",
              "      .colab-df-generate {\n",
              "        background-color: #E8F0FE;\n",
              "        border: none;\n",
              "        border-radius: 50%;\n",
              "        cursor: pointer;\n",
              "        display: none;\n",
              "        fill: #1967D2;\n",
              "        height: 32px;\n",
              "        padding: 0 0 0 0;\n",
              "        width: 32px;\n",
              "      }\n",
              "\n",
              "      .colab-df-generate:hover {\n",
              "        background-color: #E2EBFA;\n",
              "        box-shadow: 0px 1px 2px rgba(60, 64, 67, 0.3), 0px 1px 3px 1px rgba(60, 64, 67, 0.15);\n",
              "        fill: #174EA6;\n",
              "      }\n",
              "\n",
              "      [theme=dark] .colab-df-generate {\n",
              "        background-color: #3B4455;\n",
              "        fill: #D2E3FC;\n",
              "      }\n",
              "\n",
              "      [theme=dark] .colab-df-generate:hover {\n",
              "        background-color: #434B5C;\n",
              "        box-shadow: 0px 1px 3px 1px rgba(0, 0, 0, 0.15);\n",
              "        filter: drop-shadow(0px 1px 2px rgba(0, 0, 0, 0.3));\n",
              "        fill: #FFFFFF;\n",
              "      }\n",
              "    </style>\n",
              "    <button class=\"colab-df-generate\" onclick=\"generateWithVariable('df')\"\n",
              "            title=\"Generate code using this dataframe.\"\n",
              "            style=\"display:none;\">\n",
              "\n",
              "  <svg xmlns=\"http://www.w3.org/2000/svg\" height=\"24px\"viewBox=\"0 0 24 24\"\n",
              "       width=\"24px\">\n",
              "    <path d=\"M7,19H8.4L18.45,9,17,7.55,7,17.6ZM5,21V16.75L18.45,3.32a2,2,0,0,1,2.83,0l1.4,1.43a1.91,1.91,0,0,1,.58,1.4,1.91,1.91,0,0,1-.58,1.4L9.25,21ZM18.45,9,17,7.55Zm-12,3A5.31,5.31,0,0,0,4.9,8.1,5.31,5.31,0,0,0,1,6.5,5.31,5.31,0,0,0,4.9,4.9,5.31,5.31,0,0,0,6.5,1,5.31,5.31,0,0,0,8.1,4.9,5.31,5.31,0,0,0,12,6.5,5.46,5.46,0,0,0,6.5,12Z\"/>\n",
              "  </svg>\n",
              "    </button>\n",
              "    <script>\n",
              "      (() => {\n",
              "      const buttonEl =\n",
              "        document.querySelector('#id_d6f1604d-5a1c-4e80-8293-c2ae7c24903b button.colab-df-generate');\n",
              "      buttonEl.style.display =\n",
              "        google.colab.kernel.accessAllowed ? 'block' : 'none';\n",
              "\n",
              "      buttonEl.onclick = () => {\n",
              "        google.colab.notebook.generateWithVariable('df');\n",
              "      }\n",
              "      })();\n",
              "    </script>\n",
              "  </div>\n",
              "\n",
              "    </div>\n",
              "  </div>\n"
            ],
            "application/vnd.google.colaboratory.intrinsic+json": {
              "type": "dataframe",
              "variable_name": "df",
              "summary": "{\n  \"name\": \"df\",\n  \"rows\": 200,\n  \"fields\": [\n    {\n      \"column\": \"\\uac12\",\n      \"properties\": {\n        \"dtype\": \"number\",\n        \"std\": 8.934336731815026,\n        \"min\": 24.318285295541862,\n        \"max\": 69.54253168888371,\n        \"num_unique_values\": 200,\n        \"samples\": [\n          46.53489686014558,\n          39.65752245810475,\n          69.54253168888371\n        ],\n        \"semantic_type\": \"\",\n        \"description\": \"\"\n      }\n    }\n  ]\n}"
            }
          },
          "metadata": {},
          "execution_count": 8
        }
      ],
      "source": [
        "df"
      ]
    },
    {
      "cell_type": "code",
      "execution_count": 9,
      "id": "6465db5f-6c06-40ba-a2b9-ed20c5e71e7b",
      "metadata": {
        "id": "6465db5f-6c06-40ba-a2b9-ed20c5e71e7b"
      },
      "outputs": [],
      "source": [
        "## 이상치 삾임 (임의로)     loc : index를 추가 (삽입) 하는 함수\n",
        "df.loc[201] = 1\n",
        "df.loc[502] = 100\n",
        "df.loc[503]  = 10\n",
        "df.loc[204] = 110"
      ]
    },
    {
      "cell_type": "code",
      "execution_count": 10,
      "id": "bc705c92-f552-4a05-9acb-f412ae28802e",
      "metadata": {
        "id": "bc705c92-f552-4a05-9acb-f412ae28802e"
      },
      "outputs": [],
      "source": [
        "#분포 시각화"
      ]
    },
    {
      "cell_type": "code",
      "execution_count": 11,
      "id": "d96e7321-2c12-49fd-95e0-c166baaa22da",
      "metadata": {
        "colab": {
          "base_uri": "https://localhost:8080/",
          "height": 430
        },
        "id": "d96e7321-2c12-49fd-95e0-c166baaa22da",
        "outputId": "f9b9c2d7-dfbf-4c19-8ebb-cf628e820a2b"
      },
      "outputs": [
        {
          "output_type": "display_data",
          "data": {
            "text/plain": [
              "<Figure size 640x480 with 1 Axes>"
            ],
            "image/png": "[encoded data removed]"
          },
          "metadata": {}
        }
      ],
      "source": [
        "plt.hist(df[\"값\"],bins=10, rwidth=0.5)   ## histrom, 넓이, bin: 분포\n",
        "plt.show()"
      ]
    },
    {
      "cell_type": "code",
      "execution_count": 12,
      "id": "4930916d-6a87-48de-b16c-850616abe8a4",
      "metadata": {
        "id": "4930916d-6a87-48de-b16c-850616abe8a4"
      },
      "outputs": [],
      "source": [
        "## 여러가지 방법을 사용하여 판단하게 된다."
      ]
    },
    {
      "cell_type": "markdown",
      "source": [
        "IRQ (Interquearile Range, 사분위 범위) 방법\n",
        " . IQR Rule을 이용한 이상치 탐색은 사분위 개념으로 출발.\n",
        "   - 전체 데이터들을 오름차순으로 정렬하고,\n",
        "     정확히 4등분 (25%, 50%, 75%, 100%)로 나눔.\n",
        "  - 여기서 75% 지점의 값과, 25% 지점의 값의 차이를 IQR 이라고 한다.\n",
        "\n",
        "    ( 3사분위 수 - 1차 분위수 )의 차이 가 IQR"
      ],
      "metadata": {
        "id": "7T9C2oO-sRIo"
      },
      "id": "7T9C2oO-sRIo"
    },
    {
      "cell_type": "markdown",
      "source": [
        " boxblot 을 그렸을 때, 점으로 나오는 샘플들이 바로 IQR Rule에서 말하는 **이상치**\n",
        "\n",
        " Q1 - 1.5*IRQ  (mininum 값) 보다 작은 것 ,\n",
        " Q3 + 1.5*IQR   (maximum 값) 보다 큰 것\n",
        " 들을 이상치 라고 한다.\n",
        "\n",
        " 1.5 정도의 값 (통계적인 값)\n",
        "     "
      ],
      "metadata": {
        "id": "mZP4pBjCsqOR"
      },
      "id": "mZP4pBjCsqOR"
    },
    {
      "cell_type": "code",
      "source": [],
      "metadata": {
        "id": "OtMUp_DjtU2u"
      },
      "id": "OtMUp_DjtU2u",
      "execution_count": 12,
      "outputs": []
    },
    {
      "cell_type": "code",
      "execution_count": 13,
      "id": "4747f7fe-3abb-46d3-9108-84c7af167673",
      "metadata": {
        "id": "4747f7fe-3abb-46d3-9108-84c7af167673"
      },
      "outputs": [],
      "source": [
        "## 찾았으면  값을 삭제 하거나,  값을 대체 하거나 한다."
      ]
    },
    {
      "cell_type": "code",
      "execution_count": 14,
      "id": "7a83f388-bc4c-4866-83dc-9e40dfe14b88",
      "metadata": {
        "id": "7a83f388-bc4c-4866-83dc-9e40dfe14b88"
      },
      "outputs": [],
      "source": [
        "## IRQ 사용해 보기"
      ]
    },
    {
      "cell_type": "code",
      "execution_count": 15,
      "id": "f71d0be7-ef28-4f74-92c6-31a4fe86962e",
      "metadata": {
        "colab": {
          "base_uri": "https://localhost:8080/",
          "height": 430
        },
        "id": "f71d0be7-ef28-4f74-92c6-31a4fe86962e",
        "outputId": "c7bca88b-3789-463e-b96d-798e1aecda91"
      },
      "outputs": [
        {
          "output_type": "display_data",
          "data": {
            "text/plain": [
              "<Figure size 640x480 with 1 Axes>"
            ],
            "image/png": "[encoded data removed]"
          },
          "metadata": {}
        }
      ],
      "source": [
        "plt.boxplot(df[\"값\"])\n",
        "plt.show()"
      ]
    },
    {
      "cell_type": "code",
      "source": [],
      "metadata": {
        "id": "mZPyYmKjtZkt"
      },
      "id": "mZPyYmKjtZkt",
      "execution_count": 15,
      "outputs": []
    },
    {
      "cell_type": "markdown",
      "source": [
        "quantile 방식 ( 소숫점) 과  describe 방식 ( % 방식) 으로 사용할 수 있다. 결과값은 동일하다."
      ],
      "metadata": {
        "id": "6rcVAp23vhnl"
      },
      "id": "6rcVAp23vhnl"
    },
    {
      "cell_type": "code",
      "execution_count": 16,
      "id": "b6f7ca3b-6f27-434d-9860-c54ef8d97101",
      "metadata": {
        "colab": {
          "base_uri": "https://localhost:8080/"
        },
        "id": "b6f7ca3b-6f27-434d-9860-c54ef8d97101",
        "outputId": "05bd913b-7324-4079-f440-bfeed172777e"
      },
      "outputs": [
        {
          "output_type": "stream",
          "name": "stdout",
          "text": [
            "Q1 =  42.16279313071987\n",
            "Q2 =  48.64160275479382\n",
            "Q3 =  54.26646562613983\n",
            "IQR =  12.103672495419964\n"
          ]
        }
      ],
      "source": [
        "Q1= df[\"값\"].quantile(.25)\n",
        "Q2= df[\"값\"].quantile(.5)\n",
        "Q3= df[\"값\"].quantile(.75)\n",
        "#Q2= df[\"값\"].quantile(.5)\n",
        "IQR = Q3 - Q1\n",
        "\n",
        "print(\"Q1 = \",Q1)\n",
        "print(\"Q2 = \",Q2)\n",
        "print(\"Q3 = \",Q3)\n",
        "print(\"IQR = \",IQR)\n"
      ]
    },
    {
      "cell_type": "code",
      "execution_count": 17,
      "id": "bc1ae392-a191-403d-bd1e-7c91cba1ca49",
      "metadata": {
        "id": "bc1ae392-a191-403d-bd1e-7c91cba1ca49"
      },
      "outputs": [],
      "source": [
        "#describe 함수 사용"
      ]
    },
    {
      "cell_type": "code",
      "execution_count": 18,
      "id": "870a3a25-1fa1-4b58-944d-9f0053c85337",
      "metadata": {
        "colab": {
          "base_uri": "https://localhost:8080/"
        },
        "id": "870a3a25-1fa1-4b58-944d-9f0053c85337",
        "outputId": "8521ae90-7f86-4a0d-b722-0d4cf3daba3d"
      },
      "outputs": [
        {
          "output_type": "stream",
          "name": "stdout",
          "text": [
            "Q1 =  42.16279313071987\n",
            "Q2 =  48.64160275479382\n",
            "Q3 =  54.26646562613983\n",
            "IQR =  12.103672495419964\n"
          ]
        }
      ],
      "source": [
        "Q1 = df[\"값\"].describe()[\"25%\"]\n",
        "Q2 = df[\"값\"].describe()[\"50%\"]\n",
        "Q3 = df[\"값\"].describe()[\"75%\"]\n",
        "IQR = Q3 - Q1\n",
        "\n",
        "print(\"Q1 = \",Q1)\n",
        "print(\"Q2 = \",Q2)\n",
        "print(\"Q3 = \",Q3)\n",
        "print(\"IQR = \",IQR)\n"
      ]
    },
    {
      "cell_type": "code",
      "execution_count": 19,
      "id": "f0fa59fd-2645-4567-a39c-e044d1def7e8",
      "metadata": {
        "id": "f0fa59fd-2645-4567-a39c-e044d1def7e8"
      },
      "outputs": [],
      "source": [
        "#둘다 동일한 경과이다.  표현법만 다르다."
      ]
    },
    {
      "cell_type": "code",
      "execution_count": 20,
      "id": "4d63470b-97ca-45e0-a8f2-c7f0c8d6a826",
      "metadata": {
        "scrolled": true,
        "colab": {
          "base_uri": "https://localhost:8080/"
        },
        "id": "4d63470b-97ca-45e0-a8f2-c7f0c8d6a826",
        "outputId": "2c65e983-bc1d-42a3-c748-218cb1061275"
      },
      "outputs": [
        {
          "output_type": "stream",
          "name": "stdout",
          "text": [
            "              값\n",
            "0     39.895730\n",
            "1     61.837414\n",
            "2     57.338480\n",
            "3     49.716870\n",
            "4     60.005578\n",
            "..          ...\n",
            "197   35.369800\n",
            "198   37.054875\n",
            "199   53.307471\n",
            "502  100.000000\n",
            "204  110.000000\n",
            "\n",
            "[202 rows x 1 columns]\n",
            "         값\n",
            "502  100.0\n",
            "204  110.0\n"
          ]
        }
      ],
      "source": [
        "condition = df[\"값\"] > (Q3 + IQR * 1.5)   ## maximum value\n",
        "upperOutlier = df[condition]\n",
        "condition = df[\"값\"] > (Q1 - IQR * 1.5)   ## minimum value\n",
        "lowerOutlier = df[condition]\n",
        "\n",
        "print(lowerOutlier)\n",
        "print(upperOutlier)"
      ]
    },
    {
      "cell_type": "code",
      "source": [],
      "metadata": {
        "id": "Dmh4d5ZGvzWR"
      },
      "id": "Dmh4d5ZGvzWR",
      "execution_count": 20,
      "outputs": []
    },
    {
      "cell_type": "markdown",
      "source": [
        "도전 과제:\n",
        "\n",
        "  시험 점수 이상치 확인.\n",
        "    1. 학생 10명의 임의의 시험 점수를 생성한다.\n",
        "    2. 임의의 이상치 2개를 추가한다.\n",
        "    3. IQR 를 이용하여 이상치를 확인하고, 해당 점수를 삭제해 보도록 한다."
      ],
      "metadata": {
        "id": "4rmU0rscv0wE"
      },
      "id": "4rmU0rscv0wE"
    },
    {
      "cell_type": "code",
      "source": [
        "import pandas as pd\n",
        "import numpy as np\n",
        "\n",
        "# 1. 학생 10명의 임의 시험 점수 생성 (50~100점)\n",
        "np.random.seed(42)\n",
        "scores = pd.Series(np.random.randint(50, 100, size=10))\n",
        "print(\"1. 원본 점수:\\n\", scores.values)\n",
        "\n",
        "# 2. 이상치 2개 추가 (10, 150)\n",
        "scores_with_outliers = pd.concat([scores, pd.Series([10, 150])], ignore_index=True)\n",
        "print(\"\\n2. 이상치 추가 후:\\n\", scores_with_outliers.values)\n",
        "\n",
        "# 3. IQR 기반 이상치 탐지\n",
        "Q1 = scores_with_outliers.quantile(0.25)\n",
        "Q3 = scores_with_outliers.quantile(0.75)\n",
        "IQR = Q3 - Q1\n",
        "lower = Q1 - 1.5 * IQR\n",
        "upper = Q3 + 1.5 * IQR\n",
        "\n",
        "outliers = scores_with_outliers[(scores_with_outliers < lower) | (scores_with_outliers > upper)]\n",
        "print(\"\\n3. 탐지된 이상치:\\n\", outliers.values)\n",
        "\n",
        "# 4. 이상치 제거\n",
        "cleaned = scores_with_outliers[(scores_with_outliers >= lower) & (scores_with_outliers <= upper)]\n",
        "print(\"\\n4. 이상치 제거 후:\\n\", cleaned.values)\n"
      ],
      "metadata": {
        "id": "h2Jwao7mw6zU",
        "outputId": "349e425a-8d5a-4e7a-fb1c-a9dabbfe8eef",
        "colab": {
          "base_uri": "https://localhost:8080/"
        }
      },
      "id": "h2Jwao7mw6zU",
      "execution_count": 22,
      "outputs": [
        {
          "output_type": "stream",
          "name": "stdout",
          "text": [
            "1. 원본 점수:\n",
            " [88 78 64 92 57 70 88 68 72 60]\n",
            "\n",
            "2. 이상치 추가 후:\n",
            " [ 88  78  64  92  57  70  88  68  72  60  10 150]\n",
            "\n",
            "3. 탐지된 이상치:\n",
            " [ 10 150]\n",
            "\n",
            "4. 이상치 제거 후:\n",
            " [88 78 64 92 57 70 88 68 72 60]\n"
          ]
        }
      ]
    },
    {
      "cell_type": "code",
      "source": [
        "plt.boxplot([scores])\n",
        "plt.show()"
      ],
      "metadata": {
        "id": "glq1p7anxS5E",
        "outputId": "737f1aed-a37d-4a37-fb21-d092d4b875f1",
        "colab": {
          "base_uri": "https://localhost:8080/",
          "height": 430
        }
      },
      "id": "glq1p7anxS5E",
      "execution_count": 24,
      "outputs": [
        {
          "output_type": "display_data",
          "data": {
            "text/plain": [
              "<Figure size 640x480 with 1 Axes>"
            ],
            "image/png": "[encoded data removed]"
          },
          "metadata": {}
        }
      ]
    },
    {
      "cell_type": "code",
      "source": [],
      "metadata": {
        "id": "nJOAxbcgyZwt"
      },
      "id": "nJOAxbcgyZwt",
      "execution_count": null,
      "outputs": []
    },
    {
      "cell_type": "code",
      "source": [],
      "metadata": {
        "id": "cTaXw1nuyWxh"
      },
      "id": "cTaXw1nuyWxh",
      "execution_count": null,
      "outputs": []
    }
  ],
  "metadata": {
    "kernelspec": {
      "display_name": "Python 3",
      "name": "python3"
    },
    "language_info": {
      "name": "python"
    },
    "colab": {
      "provenance": [],
      "include_colab_link": true
    }
  },
  "nbformat": 4,
  "nbformat_minor": 5
}