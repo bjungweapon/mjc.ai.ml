{
  "nbformat": 4,
  "nbformat_minor": 0,
  "metadata": {
    "colab": {
      "provenance": [],
      "authorship_tag": "ABX9TyN73Mzswt6BW0wchC+IXOZq",
      "include_colab_link": true
    },
    "kernelspec": {
      "name": "python3",
      "display_name": "Python 3"
    },
    "language_info": {
      "name": "python"
    }
  },
  "cells": [
    {
      "cell_type": "markdown",
      "metadata": {
        "id": "view-in-github",
        "colab_type": "text"
      },
      "source": [
        "<a href=\"https://colab.research.google.com/github/bjungweapon/mjc.ai.ml/blob/BDU/%EC%B0%B8%EA%B3%A0_%EC%95%8C%EA%B3%A0%EB%A6%AC%EC%A6%98%EB%B3%84_%EC%82%AC%EC%9D%B4%ED%82%B7%EB%9F%B0_code.ipynb\" target=\"_parent\"><img src=\"https://colab.research.google.com/assets/colab-badge.svg\" alt=\"Open In Colab\"/></a>"
      ]
    },
    {
      "cell_type": "markdown",
      "source": [
        "1. classification"
      ],
      "metadata": {
        "id": "txIkaPbKCXjN"
      }
    },
    {
      "cell_type": "code",
      "execution_count": 1,
      "metadata": {
        "id": "VopoBf9wCPGa"
      },
      "outputs": [],
      "source": [
        "# 로지스틱 회귀\n",
        "from sklearn.linear_model import LogisticRegression\n",
        "model = LogisticRegression()\n",
        "\n",
        "# 서포트 벡터 머신\n",
        "from sklearn.svm import SVC\n",
        "model = SVC()\n",
        "\n",
        "# 결정 트리\n",
        "from sklearn.tree import DecisionTreeClassifier\n",
        "model = DecisionTreeClassifier()\n",
        "\n",
        "# 랜덤 포레스트\n",
        "from sklearn.ensemble import RandomForestClassifier\n",
        "model = RandomForestClassifier()\n",
        "\n",
        "# K-최근접 이웃\n",
        "from sklearn.neighbors import KNeighborsClassifier\n",
        "model = KNeighborsClassifier(n_neighbors=5)\n"
      ]
    },
    {
      "cell_type": "markdown",
      "source": [
        "2. 회귀 (Regression)"
      ],
      "metadata": {
        "id": "4aU1vFS1Covk"
      }
    },
    {
      "cell_type": "code",
      "source": [
        "# 선형 회귀\n",
        "from sklearn.linear_model import LinearRegression\n",
        "model = LinearRegression()\n",
        "\n",
        "# 다항 회귀\n",
        "from sklearn.preprocessing import PolynomialFeatures\n",
        "from sklearn.pipeline import Pipeline\n",
        "model = Pipeline([\n",
        "    ('poly', PolynomialFeatures(degree=3)),\n",
        "    ('linear', LinearRegression())\n",
        "])\n",
        "\n",
        "# 랜덤 포레스트 회귀\n",
        "from sklearn.ensemble import RandomForestRegressor\n",
        "model = RandomForestRegressor()\n",
        "\n",
        "# 그래디언트 부스팅 회귀\n",
        "from sklearn.ensemble import GradientBoostingRegressor\n",
        "model = GradientBoostingRegressor()\n"
      ],
      "metadata": {
        "id": "qexEtL4LCfnA"
      },
      "execution_count": 2,
      "outputs": []
    },
    {
      "cell_type": "markdown",
      "source": [
        "3. Clustering"
      ],
      "metadata": {
        "id": "Fr4yZL08Czf_"
      }
    },
    {
      "cell_type": "code",
      "source": [
        "# K-평균 클러스터링\n",
        "from sklearn.cluster import KMeans\n",
        "model = KMeans(n_clusters=3)\n",
        "\n",
        "# DBSCAN\n",
        "from sklearn.cluster import DBSCAN\n",
        "model = DBSCAN(eps=0.5, min_samples=5)\n",
        "\n",
        "# 평균 이동 클러스터링\n",
        "from sklearn.cluster import MeanShift\n",
        "model = MeanShift()\n",
        "\n",
        "# 계층적 클러스터링\n",
        "from sklearn.cluster import AgglomerativeClustering\n",
        "model = AgglomerativeClustering(n_clusters=3)\n"
      ],
      "metadata": {
        "id": "Z40TB7srCu3D"
      },
      "execution_count": 3,
      "outputs": []
    },
    {
      "cell_type": "markdown",
      "source": [
        "4. 차원 축소"
      ],
      "metadata": {
        "id": "xePVxMnsC7An"
      }
    },
    {
      "cell_type": "code",
      "source": [
        "# 주성분 분석(PCA)\n",
        "from sklearn.decomposition import PCA\n",
        "model = PCA(n_components=2)\n",
        "\n",
        "# 잘림 SVD\n",
        "from sklearn.decomposition import TruncatedSVD\n",
        "model = TruncatedSVD(n_components=2)\n"
      ],
      "metadata": {
        "id": "fO6a1w6QC4jY"
      },
      "execution_count": 4,
      "outputs": []
    },
    {
      "cell_type": "code",
      "source": [],
      "metadata": {
        "id": "loBZwGW7DAZW"
      },
      "execution_count": null,
      "outputs": []
    }
  ]
}