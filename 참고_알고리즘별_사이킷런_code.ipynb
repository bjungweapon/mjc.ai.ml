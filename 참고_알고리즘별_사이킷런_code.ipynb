{
  "nbformat": 4,
  "nbformat_minor": 0,
  "metadata": {
    "colab": {
      "provenance": [],
      "authorship_tag": "ABX9TyO4LnDVXLFR08TnIryR6NEv",
      "include_colab_link": true
    },
    "kernelspec": {
      "name": "python3",
      "display_name": "Python 3"
    },
    "language_info": {
      "name": "python"
    }
  },
  "cells": [
    {
      "cell_type": "markdown",
      "metadata": {
        "id": "view-in-github",
        "colab_type": "text"
      },
      "source": [
        "<a href=\"https://colab.research.google.com/github/bjungweapon/mjc.ai.ml/blob/BDU/%EC%B0%B8%EA%B3%A0_%EC%95%8C%EA%B3%A0%EB%A6%AC%EC%A6%98%EB%B3%84_%EC%82%AC%EC%9D%B4%ED%82%B7%EB%9F%B0_code.ipynb\" target=\"_parent\"><img src=\"https://colab.research.google.com/assets/colab-badge.svg\" alt=\"Open In Colab\"/></a>"
      ]
    },
    {
      "cell_type": "markdown",
      "source": [
        "1. classification"
      ],
      "metadata": {
        "id": "txIkaPbKCXjN"
      }
    },
    {
      "cell_type": "code",
      "execution_count": null,
      "metadata": {
        "id": "VopoBf9wCPGa"
      },
      "outputs": [],
      "source": [
        "# 로지스틱 회귀\n",
        "from sklearn.linear_model import LogisticRegression\n",
        "model = LogisticRegression()\n",
        "\n",
        "# 서포트 벡터 머신\n",
        "from sklearn.svm import SVC\n",
        "model = SVC()\n",
        "\n",
        "# 결정 트리\n",
        "from sklearn.tree import DecisionTreeClassifier\n",
        "model = DecisionTreeClassifier()\n",
        "\n",
        "# 랜덤 포레스트\n",
        "from sklearn.ensemble import RandomForestClassifier\n",
        "model = RandomForestClassifier()\n",
        "\n",
        "# K-최근접 이웃\n",
        "from sklearn.neighbors import KNeighborsClassifier\n",
        "model = KNeighborsClassifier(n_neighbors=5)\n"
      ]
    },
    {
      "cell_type": "markdown",
      "source": [
        "2. 회귀 (Regression)"
      ],
      "metadata": {
        "id": "4aU1vFS1Covk"
      }
    },
    {
      "cell_type": "code",
      "source": [
        "# 선형 회귀\n",
        "from sklearn.linear_model import LinearRegression\n",
        "model = LinearRegression()\n",
        "\n",
        "# 다항 회귀\n",
        "from sklearn.preprocessing import PolynomialFeatures\n",
        "from sklearn.pipeline import Pipeline\n",
        "model = Pipeline([\n",
        "    ('poly', PolynomialFeatures(degree=3)),\n",
        "    ('linear', LinearRegression())\n",
        "])\n",
        "\n",
        "# 랜덤 포레스트 회귀\n",
        "from sklearn.ensemble import RandomForestRegressor\n",
        "model = RandomForestRegressor()\n",
        "\n",
        "# 그래디언트 부스팅 회귀\n",
        "from sklearn.ensemble import GradientBoostingRegressor\n",
        "model = GradientBoostingRegressor()\n"
      ],
      "metadata": {
        "id": "qexEtL4LCfnA"
      },
      "execution_count": null,
      "outputs": []
    },
    {
      "cell_type": "markdown",
      "source": [
        "3. Clustering"
      ],
      "metadata": {
        "id": "Fr4yZL08Czf_"
      }
    },
    {
      "cell_type": "code",
      "source": [
        "# K-평균 클러스터링\n",
        "from sklearn.cluster import KMeans\n",
        "model = KMeans(n_clusters=3)\n",
        "\n",
        "# DBSCAN\n",
        "from sklearn.cluster import DBSCAN\n",
        "model = DBSCAN(eps=0.5, min_samples=5)\n",
        "\n",
        "# 평균 이동 클러스터링\n",
        "from sklearn.cluster import MeanShift\n",
        "model = MeanShift()\n",
        "\n",
        "# 계층적 클러스터링\n",
        "from sklearn.cluster import AgglomerativeClustering\n",
        "model = AgglomerativeClustering(n_clusters=3)\n"
      ],
      "metadata": {
        "id": "Z40TB7srCu3D"
      },
      "execution_count": null,
      "outputs": []
    },
    {
      "cell_type": "markdown",
      "source": [
        "4. 차원 축소"
      ],
      "metadata": {
        "id": "xePVxMnsC7An"
      }
    },
    {
      "cell_type": "code",
      "source": [
        "# 주성분 분석(PCA)\n",
        "from sklearn.decomposition import PCA\n",
        "model = PCA(n_components=2)\n",
        "\n",
        "# 잘림 SVD\n",
        "from sklearn.decomposition import TruncatedSVD\n",
        "model = TruncatedSVD(n_components=2)\n"
      ],
      "metadata": {
        "id": "fO6a1w6QC4jY"
      },
      "execution_count": null,
      "outputs": []
    },
    {
      "cell_type": "code",
      "source": [],
      "metadata": {
        "id": "loBZwGW7DAZW"
      },
      "execution_count": null,
      "outputs": []
    },
    {
      "cell_type": "markdown",
      "source": [
        "( 주요 data set 활용 from sklearn, mglearn )\n",
        "\n",
        "//\n",
        "함수 이름\t설명\t용도\n",
        "load_iris()\t붓꽃 데이터셋 (150개 샘플, 3개 클래스)\t분류\n",
        "load_wine()\t와인 품질 데이터셋 (178개 샘플, 13개 특성)\t분류\n",
        "load_breast_cancer()\t유방암 진단 데이터셋 (569개 샘플, 30개 특성)\t분류\n",
        "load_diabetes()\t당뇨병 진단 데이터셋 (442개 샘플, 10개 특성)\t회귀\n",
        "load_digits()\t손글씨 숫자 이미지 (8x8 이미지, 1797개 샘플)\t분류\n",
        "load_linnerud()\t운동 능력과 생리 데이터를 다룬 데이터셋\t다중 회귀\n",
        "load_boston()\t[사용 중단됨] 주택 가격 예측\t회귀\n",
        "\n",
        "\n",
        "//\n",
        "함수 이름\t설명\t용도\n",
        "make_classification()\t분류용 가상 데이터 생성\t분류 실습\n",
        "make_regression()\t회귀용 가상 데이터 생성\t회귀 실습\n",
        "make_blobs()\t군집화용 블롭 생성 (클러스터 연습용)\t군집화\n",
        "make_moons()\t달 모양의 2차원 분류 데이터\t비선형 분류\n",
        "make_circles()\t원 형태의 2차원 데이터\t비선형 분류\n",
        "make_multilabel_classification()\t다중 라벨 분류용 샘플 생성\t다중 라벨 분류\n",
        "\n",
        "//\n",
        "이 함수들은 인터넷에서 데이터를 다운로드하므로 인터넷 연결 필요.\n",
        "\n",
        "\n",
        "함수 이름\t설명\t용도\n",
        "fetch_20newsgroups()\t뉴스 기사 텍스트 (20개 카테고리)\t텍스트 분류\n",
        "fetch_olivetti_faces()\t얼굴 이미지 (64x64 grayscale)\t이미지 분류\n",
        "fetch_lfw_people()\t유명인 얼굴 데이터\t얼굴 인식\n",
        "fetch_california_housing()\t캘리포니아 주택 가격 데이터\t회귀\n",
        "fetch_covtype()\t산림 덮개 유형 (코로라도 지역 위성 데이터)\t분류\n",
        "fetch_rcv1()\t로이터 뉴스 기사 (대규모 텍스트)\t텍스트 분류\n",
        "fetch_openml()\tOpenML에서 다양한 데이터셋 다운로드 가능\t다양\n",
        "\n"
      ],
      "metadata": {
        "id": "EN5toE0m-2tS"
      }
    }
  ]
}