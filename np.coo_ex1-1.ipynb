{
  "nbformat": 4,
  "nbformat_minor": 0,
  "metadata": {
    "colab": {
      "provenance": [],
      "authorship_tag": "ABX9TyP9USjNynpwL+qIOLpxMD45",
      "include_colab_link": true
    },
    "kernelspec": {
      "name": "python3",
      "display_name": "Python 3"
    },
    "language_info": {
      "name": "python"
    }
  },
  "cells": [
    {
      "cell_type": "markdown",
      "metadata": {
        "id": "view-in-github",
        "colab_type": "text"
      },
      "source": [
        "<a href=\"https://colab.research.google.com/github/bjungweapon/mjc.ai.ml/blob/ANDREIS/np.coo_ex1-1.ipynb\" target=\"_parent\"><img src=\"https://colab.research.google.com/assets/colab-badge.svg\" alt=\"Open In Colab\"/></a>"
      ]
    },
    {
      "cell_type": "code",
      "execution_count": 7,
      "metadata": {
        "id": "G47vKDhz5-1O"
      },
      "outputs": [],
      "source": [
        "import pandas as pd\n",
        "import numpy as np\n",
        "\n",
        "\n",
        "from scipy import sparse\n",
        "\n",
        "#대각선 원소는 1이고 나머지는 0인 2차원 배열을 만든다."
      ]
    },
    {
      "cell_type": "markdown",
      "source": [],
      "metadata": {
        "id": "83MU2Dk87-fW"
      }
    },
    {
      "cell_type": "code",
      "source": [
        "eye = np.eye(4)\n",
        "print (\"Numpy 배열 = \\n\", eye)"
      ],
      "metadata": {
        "colab": {
          "base_uri": "https://localhost:8080/"
        },
        "id": "SaYCoOQP6yYt",
        "outputId": "c827b06d-b546-43ec-c657-cc7624906232"
      },
      "execution_count": 10,
      "outputs": [
        {
          "output_type": "stream",
          "name": "stdout",
          "text": [
            "Numpy 배열 = \n",
            " [[1. 0. 0. 0.]\n",
            " [0. 1. 0. 0.]\n",
            " [0. 0. 1. 0.]\n",
            " [0. 0. 0. 1.]]\n"
          ]
        }
      ]
    },
    {
      "cell_type": "code",
      "source": [
        "data = np.ones(4)\n",
        "\n",
        "raw_indices = np.arange(4)\n",
        "col_indices = np.arange(4)\n",
        "\n",
        "eye_coo = sparse.coo_matrix((data, ( raw_indices, col_indices)))\n",
        "\n",
        "print(\"COO 표현:\\n\", eye_coo)"
      ],
      "metadata": {
        "colab": {
          "base_uri": "https://localhost:8080/"
        },
        "id": "u0a2CXrX8G2n",
        "outputId": "51152271-820d-4957-c27b-63030b10105e"
      },
      "execution_count": 15,
      "outputs": [
        {
          "output_type": "stream",
          "name": "stdout",
          "text": [
            "COO 표현:\n",
            " <COOrdinate sparse matrix of dtype 'float64'\n",
            "\twith 4 stored elements and shape (4, 4)>\n",
            "  Coords\tValues\n",
            "  (0, 0)\t1.0\n",
            "  (1, 1)\t1.0\n",
            "  (2, 2)\t1.0\n",
            "  (3, 3)\t1.0\n"
          ]
        }
      ]
    },
    {
      "cell_type": "code",
      "source": [],
      "metadata": {
        "id": "oSbyLADK8fZ-"
      },
      "execution_count": null,
      "outputs": []
    },
    {
      "cell_type": "markdown",
      "source": [],
      "metadata": {
        "id": "cWPd0yYs6fB8"
      }
    }
  ]
}