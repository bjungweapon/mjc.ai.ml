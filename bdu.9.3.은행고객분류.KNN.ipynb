{
  "cells": [
    {
      "cell_type": "markdown",
      "metadata": {
        "id": "view-in-github",
        "colab_type": "text"
      },
      "source": [
        "<a href=\"https://colab.research.google.com/github/bjungweapon/mjc.ai.ml/blob/BDU/bdu.9.3.%EC%9D%80%ED%96%89%EA%B3%A0%EA%B0%9D%EB%B6%84%EB%A5%98.KNN.ipynb\" target=\"_parent\"><img src=\"https://colab.research.google.com/assets/colab-badge.svg\" alt=\"Open In Colab\"/></a>"
      ]
    },
    {
      "cell_type": "markdown",
      "source": [
        "1. 문제 정의\n",
        "   ( 대출 여부를 결정하는 분류 문제 )\n",
        "\n",
        "   . 은행에서 수립한 고객 5000 명의 금융 정보에 있는 대출 여부가 들어 잇는 참조 데이터 이용.\n",
        "  . 대출 여부를 분류하는 가장 최적의 이웃의 크기값을 구하고 분류 정확도를 산출\n",
        "\n",
        "  . 7:3의 비율로 트레이닝.\n",
        "\n",
        "  . z 값을 이용하여 정규화 한다.\n",
        "\n",
        "   ---> 이때 사용하는 알고리즘은 어떤 것을 쓸까?\n",
        "       ( KNN 알고리즘을 사용하자. 분류 해야 하는 것)\n",
        "\n",
        "       "
      ],
      "metadata": {
        "id": "E5qbqI7KSeXd"
      },
      "id": "E5qbqI7KSeXd"
    },
    {
      "cell_type": "markdown",
      "source": [
        " 데이터 선택.\n",
        "   Personal Loan 은 캐글에서 제고하는 5,000 명의 은행 고객의 12가지 속성을 기록한 데이타 셋 활용.\n",
        "\n",
        "   KNN과 관련이 적은 속성 (ID, ZIP Code )등을 제거한 수정 데이터 셋 사용\n",
        "\n",
        "\n",
        "   종속 변수 :   Personal Loadn (대출 여부 ) : 1 (대출), 0 ( 거부) 를 분류.\n",
        "   "
      ],
      "metadata": {
        "id": "bp6Kle4rS1Jc"
      },
      "id": "bp6Kle4rS1Jc"
    },
    {
      "cell_type": "code",
      "execution_count": null,
      "id": "5f553682-7c23-4607-b898-753c51d325c2",
      "metadata": {
        "id": "5f553682-7c23-4607-b898-753c51d325c2"
      },
      "outputs": [],
      "source": []
    }
  ],
  "metadata": {
    "kernelspec": {
      "display_name": "vconda_jungbg",
      "language": "python",
      "name": "vconda_jungbg"
    },
    "language_info": {
      "codemirror_mode": {
        "name": "ipython",
        "version": 3
      },
      "file_extension": ".py",
      "mimetype": "text/x-python",
      "name": "python",
      "nbconvert_exporter": "python",
      "pygments_lexer": "ipython3",
      "version": "3.12.9"
    },
    "colab": {
      "provenance": [],
      "include_colab_link": true
    }
  },
  "nbformat": 4,
  "nbformat_minor": 5
}